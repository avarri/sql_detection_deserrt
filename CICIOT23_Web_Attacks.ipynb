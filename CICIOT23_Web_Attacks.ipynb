{
  "cells": [
    {
      "cell_type": "code",
      "execution_count": null,
      "id": "6bf73822-335b-4513-9562-1cd7ed196d19",
      "metadata": {
        "id": "6bf73822-335b-4513-9562-1cd7ed196d19"
      },
      "outputs": [],
      "source": []
    },
    {
      "cell_type": "code",
      "source": [],
      "metadata": {
        "colab": {
          "base_uri": "https://localhost:8080/"
        },
        "id": "-5MufTzsEte6",
        "outputId": "d4d69925-2454-4ac1-e2d9-38caa10c8d78"
      },
      "id": "-5MufTzsEte6",
      "execution_count": null,
      "outputs": [
        {
          "output_type": "stream",
          "name": "stdout",
          "text": [
            "Mounted at /content/drive\n"
          ]
        }
      ]
    },
    {
      "cell_type": "code",
      "execution_count": null,
      "id": "c66ecbb1-65af-4f5d-9433-6b6a8ba6459a",
      "metadata": {
        "id": "c66ecbb1-65af-4f5d-9433-6b6a8ba6459a"
      },
      "outputs": [],
      "source": [
        "#Dataset=\"D:/CICIoT2023/\""
      ]
    },
    {
      "cell_type": "markdown",
      "id": "ea5bd2a1-736d-40fb-8a7f-b3e4f2dab00c",
      "metadata": {
        "id": "ea5bd2a1-736d-40fb-8a7f-b3e4f2dab00c"
      },
      "source": [
        "## Import the Dataset"
      ]
    },
    {
      "cell_type": "code",
      "execution_count": null,
      "id": "9ae15329-857f-49ac-b3fc-50b2a896c186",
      "metadata": {
        "id": "9ae15329-857f-49ac-b3fc-50b2a896c186"
      },
      "outputs": [],
      "source": [
        "# csv_files = [k for k in os.listdir(Dataset) if k.endswith('.csv')]\n",
        "# csv_files.sort()"
      ]
    },
    {
      "cell_type": "code",
      "execution_count": null,
      "id": "d16f13fb-e70d-4dd3-ac37-0ec12411263d",
      "metadata": {
        "id": "d16f13fb-e70d-4dd3-ac37-0ec12411263d"
      },
      "outputs": [],
      "source": [
        "# X_columns = [\n",
        "#     'flow_duration', 'Header_Length', 'Protocol Type', 'Duration',\n",
        "#        'Rate', 'Srate', 'Drate', 'fin_flag_number', 'syn_flag_number',\n",
        "#        'rst_flag_number', 'psh_flag_number', 'ack_flag_number',\n",
        "#        'ece_flag_number', 'cwr_flag_number', 'ack_count',\n",
        "#        'syn_count', 'fin_count', 'urg_count', 'rst_count',\n",
        "#     'HTTP', 'HTTPS', 'DNS', 'Telnet', 'SMTP', 'SSH', 'IRC', 'TCP',\n",
        "#        'UDP', 'DHCP', 'ARP', 'ICMP', 'IPv', 'LLC', 'Tot sum', 'Min',\n",
        "#        'Max', 'AVG', 'Std', 'Tot size', 'IAT', 'Number', 'Magnitue',\n",
        "#        'Radius', 'Covariance', 'Variance', 'Weight',\n",
        "# ]\n",
        "# y_column = 'label'"
      ]
    },
    {
      "cell_type": "code",
      "execution_count": null,
      "id": "671dee62-0e91-443d-a987-2e6b6255a991",
      "metadata": {
        "id": "671dee62-0e91-443d-a987-2e6b6255a991"
      },
      "outputs": [],
      "source": [
        "# from sklearn.preprocessing import MinMaxScaler, StandardScaler\n",
        "# scaler=StandardScaler()"
      ]
    },
    {
      "cell_type": "code",
      "execution_count": null,
      "id": "c5bf3312-1652-48a5-97a3-31214757dd4b",
      "metadata": {
        "id": "c5bf3312-1652-48a5-97a3-31214757dd4b"
      },
      "outputs": [],
      "source": [
        "# def sample_rows(df, percent_rows):\n",
        "#     '''\n",
        "#     Chooses some percentage of the dataframe's rows at random.\n",
        "#     Note that class balance is preserved.\n",
        "\n",
        "#     Parameters\n",
        "#     ----------------------\n",
        "#     df (type: pd.DataFrame)\n",
        "#     percent_rows (type: float, range: 0-1)\n",
        "\n",
        "#     Returns\n",
        "#     ----------------------\n",
        "#     pd.DataFrame\n",
        "#     - Contains percent_rows of each class in input df\n",
        "#     '''\n",
        "\n",
        "#     labels = df['label'].unique()\n",
        "#     dfs_condensed = []\n",
        "\n",
        "#     # Select rows with chosen label\n",
        "#     for label in labels:\n",
        "#         mask = df['label'] == label\n",
        "#         df_by_label = df[mask]\n",
        "\n",
        "#         # Randomly sample some percentage of rows in current class\n",
        "#         sample = df_by_label.sample(frac = percent_rows)\n",
        "#         dfs_condensed.append(sample)\n",
        "\n",
        "#     # Shuffle all samples\n",
        "#     return pd.concat(dfs_condensed, ignore_index = True).sample(frac = 1)"
      ]
    },
    {
      "cell_type": "code",
      "execution_count": null,
      "id": "de63b54f-f7e8-4a9b-9430-1d9b358629d0",
      "metadata": {
        "id": "de63b54f-f7e8-4a9b-9430-1d9b358629d0"
      },
      "outputs": [],
      "source": [
        "# # Map IANA Protocol numbers to strings (leave user option to 1-hot or numerically encode)\n",
        "# iana_map = {\n",
        "#     \"0\": \"HOPOPT\", \"1\": \"ICMP\", \"2\": \"IGMP\", \"3\": \"GGP\", \"4\": \"IPv4\", \"5\": \"ST\",\n",
        "#     \"6\": \"TCP\", \"7\": \"CBT\", \"8\": \"EGP\", \"9\": \"IGP\", \"10\": \"BBN-RCC-MON\", \"11\": \"NVP-II\",\n",
        "#     \"12\": \"PUP\", \"13\": \"ARGUS (deprecated)\", \"14\": \"EMCON\", \"15\": \"XNET\", \"16\": \"CHAOS\",\n",
        "#     \"17\": \"UDP\", \"18\": \"MUX\", \"19\": \"DCN-MEAS\", \"20\": \"HMP\", \"21\": \"PRM\", \"22\": \"XNS-IDP\",\n",
        "#     \"23\": \"TRUNK-1\", \"24\": \"TRUNK-2\", \"25\": \"LEAF-1\", \"26\": \"LEAF-2\", \"27\": \"RDP\",\n",
        "#     \"28\": \"IRTP\", \"29\": \"ISO-TP4\", \"30\": \"NETBLT\", \"31\": \"MFE-NSP\", \"32\": \"MERIT-INP\",\n",
        "#     \"33\": \"DCCP\", \"34\": \"3PC\", \"35\": \"IDPR\", \"36\": \"XTP\", \"37\": \"DDP\", \"38\": \"IDPR-CMTP\",\n",
        "#     \"39\": \"TP++\", \"40\": \"IL\", \"41\": \"IPv6\", \"42\": \"SDRP\", \"43\": \"IPv6-Route\",\n",
        "#     \"44\": \"IPv6-Frag\", \"45\": \"IDRP\", \"46\": \"RSVP\", \"47\": \"GRE\", \"48\": \"DSR\", \"49\": \"BNA\",\n",
        "#     \"50\": \"ESP\", \"51\": \"AH\", \"52\": \"I-NLSP\", \"53\": \"SWIPE (deprecated)\", \"54\": \"NARP\",\n",
        "#     \"55\": \"MOBILE\", \"56\": \"TLSP\", \"57\": \"SKIP\", \"58\": \"IPv6-ICMP\", \"59\": \"IPv6-NoNxt\",\n",
        "#     \"60\": \"IPv6-Opts\", \"62\": \"CFTP\", \"64\": \"SAT-EXPAK\", \"65\": \"KRYPTOLAN\", \"66\": \"RVD\",\n",
        "#     \"67\": \"IPPC\", \"69\": \"SAT-MON\", \"70\": \"VISA\", \"71\": \"IPCV\", \"72\": \"CPNX\", \"73\": \"CPHB\",\n",
        "#     \"74\": \"WSN\", \"75\": \"PVP\", \"76\": \"BR-SAT-MON\", \"77\": \"SUN-ND\", \"78\": \"WB-MON\",\n",
        "#     \"79\": \"WB-EXPAK\", \"80\": \"ISO-IP\", \"81\": \"VMTP\", \"82\": \"SECURE-VMTP\", \"83\": \"VINES\",\n",
        "#     \"84\": \"IPTM\", \"85\": \"NSFNET-IGP\", \"86\": \"DGP\", \"87\": \"TCF\", \"88\": \"EIGRP\",\n",
        "#     \"89\": \"OSPFIGP\", \"90\": \"Sprite-RPC\", \"91\": \"LARP\", \"92\": \"MTP\", \"93\": \"AX.25\",\n",
        "#     \"94\": \"IPIP\", \"95\": \"MICP (deprecated)\",\"96\": \"SCC-SP\", \"97\": \"ETHERIP\", \"98\": \"ENCAP\",\n",
        "#     \"100\": \"GMTP\", \"101\": \"IFMP\", \"102\": \"PNNI\", \"103\": \"PIM\", \"104\": \"ARIS\", \"105\": \"SCPS\",\n",
        "#     \"106\": \"QNX\", \"107\": \"A/N\", \"108\": \"IPComp\", \"109\": \"SNP\", \"110\": \"Compaq-Peer\",\n",
        "#     \"111\": \"IPX-in-IP\", \"112\": \"VRRP\", \"113\": \"PGM\", \"114\": \"\", \"115\": \"L2TP\", \"116\": \"DDX\",\n",
        "#     \"117\": \"IATP\", \"118\": \"STP\", \"119\": \"SRP\", \"120\": \"UTI\", \"121\": \"SMP\",\n",
        "#     \"122\": \"SM (deprecated)\", \"123\": \"PTP\",\"124\": \"ISIS over IPv4\", \"125\": \"FIRE\",\n",
        "#     \"126\": \"CRTP\", \"127\": \"CRUDP\", \"128\": \"SSCOPMCE\", \"129\": \"IPLT\", \"130\": \"SPS\",\n",
        "#     \"131\": \"PIPE\", \"132\": \"SCTP\",  \"133\": \"FC\", \"134\": \"RSVP-E2E-IGNORE\",\n",
        "#     \"135\": \"Mobility Header\", \"136\": \"UDPLite\", \"137\": \"MPLS-in-IP\", \"138\": \"manet\",\n",
        "#     \"139\": \"HIP\", \"140\": \"Shim6\", \"141\": \"WESP\", \"142\": \"ROHC\", \"143\": \"Ethernet\",\n",
        "#     \"144\": \"AGGFRAG\", \"145\": \"NSH\"\n",
        "# }\n",
        "\n",
        "# def iana_convert(df):\n",
        "#     df[\"Protocol Type\"] = df[\"Protocol Type\"].apply(lambda num : iana_map[ str(int(num)) ])\n",
        "#     return df"
      ]
    },
    {
      "cell_type": "code",
      "execution_count": null,
      "id": "a3e541cf-f426-44f0-a012-430729b4000c",
      "metadata": {
        "id": "a3e541cf-f426-44f0-a012-430729b4000c"
      },
      "outputs": [],
      "source": [
        "# # Convert to reduced space dtypes to save data\n",
        "# dtypes = {\n",
        "#         'flow_duration': np.float32,\n",
        "#         'Header_Length': np.uint32,\n",
        "#         'Protocol Type': str,\n",
        "#         'Duration': np.float32,\n",
        "#         'Rate': np.uint32,\n",
        "#         'Srate': np.uint32,\n",
        "#         'Drate': np.float32,\n",
        "#         'fin_flag_number': np.bool_,\n",
        "#         'syn_flag_number': np.bool_,\n",
        "#         'rst_flag_number': np.bool_,\n",
        "#         'psh_flag_number': np.bool_,\n",
        "#         'ack_flag_number': np.bool_,\n",
        "#         'ece_flag_number': np.bool_,\n",
        "#         'cwr_flag_number': np.bool_,\n",
        "#         'ack_count': np.float16,\n",
        "#         'syn_count': np.float16,\n",
        "#         'fin_count': np.uint16,\n",
        "#         'urg_count': np.uint16,\n",
        "#         'rst_count': np.uint16,\n",
        "#         'HTTP': np.bool_,\n",
        "#         'HTTPS': np.bool_,\n",
        "#         'DNS': np.bool_,\n",
        "#         'Telnet': np.bool_,\n",
        "#         'SMTP': np.bool_,\n",
        "#         'SSH': np.bool_,\n",
        "#         'IRC': np.bool_,\n",
        "#         'TCP': np.bool_,\n",
        "#         'UDP': np.bool_,\n",
        "#         'DHCP': np.bool_,\n",
        "#         'ARP': np.bool_,\n",
        "#         'ICMP': np.bool_,\n",
        "#         'IPv': np.bool_,\n",
        "#         'LLC': np.bool_,\n",
        "#         'Tot sum': np.float32,\n",
        "#         'Min': np.float32,\n",
        "#         'Max': np.float32,\n",
        "#         'AVG': np.float32,\n",
        "#         'Std': np.float32,\n",
        "#         'Tot size': np.float32,\n",
        "#         'IAT': np.float32,\n",
        "#         'Number': np.float32,\n",
        "#         'Magnitue': np.float32,\n",
        "#         'Radius': np.float32,\n",
        "#         'Covariance': np.float32,\n",
        "#         'Variance': np.float32,\n",
        "#         'Weight': np.float32,\n",
        "#         'label': str\n",
        "#     }\n",
        "\n",
        "# def convert_dtype(df):\n",
        "#     # Adjust data type\n",
        "#     for col,typ in dtypes.items():\n",
        "#         df[col] = df[col].astype(typ)\n",
        "\n",
        "#     # Format column names to lowercase snake\n",
        "#     df.columns = df.columns.str.lower().str.replace(' ', '_')\n",
        "\n",
        "#     # Fix spelling error in original dataset\n",
        "#     df['magnitude'] = df['magnitue']\n",
        "#     return df.drop(['magnitue'], axis=1)"
      ]
    },
    {
      "cell_type": "code",
      "execution_count": null,
      "id": "e4a5ae73-cf72-4dea-aa0b-b7c7c63b0ec3",
      "metadata": {
        "id": "e4a5ae73-cf72-4dea-aa0b-b7c7c63b0ec3"
      },
      "outputs": [],
      "source": [
        "# # Create raw label maps, simplified label maps, and cyberattack/no cyberattack label maps\n",
        "# reduced_labels1 = {\n",
        "#     'DDoS-RSTFINFlood': 'DDoS', 'DDoS-PSHACK_Flood': 'DDoS', 'DDoS-SYN_Flood': 'DDoS',\n",
        "#     'DDoS-UDP_Flood': 'DDoS', 'DDoS-TCP_Flood': 'DDoS', 'DDoS-ICMP_Flood': 'DDoS',\n",
        "#     'DDoS-SynonymousIP_Flood': 'DDoS', 'DDoS-ACK_Fragmentation': 'DDoS',\n",
        "#     'DDoS-UDP_Fragmentation': 'DDoS', 'DDoS-ICMP_Fragmentation': 'DDoS',\n",
        "#     'DDoS-SlowLoris': 'DDoS', 'DDoS-HTTP_Flood': 'DDoS', 'DoS-UDP_Flood': 'DoS',\n",
        "#     'DoS-SYN_Flood': 'DoS', 'DoS-TCP_Flood': 'DoS', 'DoS-HTTP_Flood': 'DoS',\n",
        "#     'Mirai-greeth_flood': 'Mirai', 'Mirai-greip_flood': 'Mirai', 'Mirai-udpplain': 'Mirai',\n",
        "#     'Recon-PingSweep': 'Recon', 'Recon-OSScan': 'Recon', 'Recon-PortScan': 'Recon',\n",
        "#     'VulnerabilityScan': 'Recon', 'Recon-HostDiscovery': 'Recon', 'DNS_Spoofing': 'Spoofing',\n",
        "#     'MITM-ArpSpoofing': 'Spoofing', 'BenignTraffic': 'Benign', 'BrowserHijacking': 'Web',\n",
        "#     'Backdoor_Malware': 'Web', 'XSS': 'Web', 'Uploading_Attack': 'Web', 'SqlInjection': 'Web',\n",
        "#     'CommandInjection': 'Web', 'DictionaryBruteForce': 'BruteForce'\n",
        "# }"
      ]
    },
    {
      "cell_type": "code",
      "execution_count": null,
      "id": "5b6e63a3-471c-46a3-99bf-15f77023c19b",
      "metadata": {
        "id": "5b6e63a3-471c-46a3-99bf-15f77023c19b"
      },
      "outputs": [],
      "source": [
        "# # Create raw label maps, simplified label maps, and cyberattack/no cyberattack label maps\n",
        "# reduced_labels = {\n",
        "#     'DDoS-RSTFINFlood': 'DDoS', 'DDoS-PSHACK_Flood': 'DDoS', 'DDoS-SYN_Flood': 'DDoS',\n",
        "#     'DDoS-UDP_Flood': 'DDoS', 'DDoS-TCP_Flood': 'DDoS', 'DDoS-ICMP_Flood': 'DDoS',\n",
        "#     'DDoS-SynonymousIP_Flood': 'DDoS', 'DDoS-ACK_Fragmentation': 'DDoS',\n",
        "#     'DDoS-UDP_Fragmentation': 'DDoS', 'DDoS-ICMP_Fragmentation': 'DDoS',\n",
        "#     'DDoS-SlowLoris': 'DDoS', 'DDoS-HTTP_Flood': 'DDoS', 'DoS-UDP_Flood': 'DoS',\n",
        "#     'DoS-SYN_Flood': 'DoS', 'DoS-TCP_Flood': 'DoS', 'DoS-HTTP_Flood': 'DoS',\n",
        "#     'Mirai-greeth_flood': 'Mirai', 'Mirai-greip_flood': 'Mirai', 'Mirai-udpplain': 'Mirai',\n",
        "#     'Recon-PingSweep': 'Recon', 'Recon-OSScan': 'Recon', 'Recon-PortScan': 'Recon',\n",
        "#     'VulnerabilityScan': 'Recon', 'Recon-HostDiscovery': 'Recon', 'DNS_Spoofing': 'Spoofing',\n",
        "#     'MITM-ArpSpoofing': 'Spoofing', 'BenignTraffic': 'Benign', 'BrowserHijacking': 'Web_Browser',\n",
        "#     'Backdoor_Malware': 'Web_Mal', 'XSS': 'Web_XSS', 'Uploading_Attack': 'Web_Upload_Attack', 'SqlInjection': 'Web_SQL',\n",
        "#     'CommandInjection': 'Web_INJ', 'DictionaryBruteForce': 'BruteForce'\n",
        "# }\n",
        "\n",
        "\n",
        "# def label_map(df_34):\n",
        "#     df_8 = df_34.copy()\n",
        "#     df_2 = df_34.copy()\n",
        "\n",
        "#     # Adjust label classes\n",
        "#     df_8['label'] = df_8['label'].apply(lambda attack_name : reduced_labels[attack_name])\n",
        "#     df_2['benign'] = df_2['label'] == 'BenignTraffic'\n",
        "#     df_2 = df_2.drop(['label'], axis=1)\n",
        "\n",
        "#     return df_34,df_8,df_2"
      ]
    },
    {
      "cell_type": "code",
      "execution_count": null,
      "id": "bc22e67b-2ebe-4f90-a94e-535a62aea99f",
      "metadata": {
        "id": "bc22e67b-2ebe-4f90-a94e-535a62aea99f"
      },
      "outputs": [],
      "source": [
        "# def write_helper(dfs, filename, append=True):\n",
        "#     \"\"\" Creates or appends \"\"\"\n",
        "\n",
        "#     df_34,df_8,df_2 = dfs\n",
        "\n",
        "#     if append:\n",
        "#         df_34.to_csv(filename+'_34classes.csv', mode='a', index=False, header=False)\n",
        "#         df_8.to_csv(filename+'_8classes.csv', mode='a', index=False, header=False)\n",
        "#         df_2.to_csv(filename+'_2classes.csv', mode='a', index=False, header=False)\n",
        "#     else:\n",
        "#         df_34.to_csv(filename+'_34classes.csv', index=False)\n",
        "#         df_8.to_csv(filename+'_8classes.csv', index=False)\n",
        "#         df_2.to_csv(filename+'_2classes.csv', index=False)"
      ]
    },
    {
      "cell_type": "code",
      "execution_count": null,
      "id": "b755b569-5816-4897-b5ae-a686d656adab",
      "metadata": {
        "id": "b755b569-5816-4897-b5ae-a686d656adab"
      },
      "outputs": [],
      "source": [
        "# def combine_csv(csv_files, percent):\n",
        "#     '''\n",
        "#     For memory-efficiency, extracts rows from one original CSV at a time.\n",
        "#     Then, combines the rows into a larger CSV.\n",
        "\n",
        "#     Parameters\n",
        "#     ---------------------\n",
        "#     csv_files (type: list)\n",
        "#     - Filepaths to the raw CSV files\n",
        "\n",
        "#     Returns\n",
        "#     ---------------------\n",
        "#     None\n",
        "#     - Outputs to CSV file instead\n",
        "#     '''\n",
        "\n",
        "#     # Init CSV\n",
        "#     dfs = label_map(convert_dtype(iana_convert(sample_rows(\n",
        "#         pd.read_csv(Dataset + csv_files[0]), percent_rows=percent\n",
        "#     ))))\n",
        "#     write_helper(dfs, f'D:/Kaggle_CICIOT23/{percent}percent', append=False)\n",
        "#     del dfs\n",
        "\n",
        "#     print(f\"Appending into {percent} csv\")\n",
        "#     for csv in csv_files[1:]:\n",
        "#         print(\".\", end=\"\")\n",
        "\n",
        "#         # Preprocessing\n",
        "#         dfs = label_map(convert_dtype(iana_convert(sample_rows(\n",
        "#             pd.read_csv(Dataset + csv), percent_rows=percent\n",
        "#         ))))\n",
        "\n",
        "#         # Append to CSV\n",
        "#         write_helper(dfs, f'D:/Kaggle_CICIOT23/{percent}percent')\n",
        "#         del dfs"
      ]
    },
    {
      "cell_type": "code",
      "execution_count": null,
      "id": "c3934e84-f653-4522-b65a-689e84acbb46",
      "metadata": {
        "id": "c3934e84-f653-4522-b65a-689e84acbb46"
      },
      "outputs": [],
      "source": [
        "# for percent in [0.001, 0.005, 0.01, 0.05, 0.1]:\n",
        "#     combine_csv(csv_files, percent=percent)"
      ]
    },
    {
      "cell_type": "code",
      "execution_count": null,
      "id": "6ea5309a-9709-4589-aff6-944d4ccb5de2",
      "metadata": {
        "id": "6ea5309a-9709-4589-aff6-944d4ccb5de2"
      },
      "outputs": [],
      "source": [
        "# import os\n",
        "# import pandas as pd\n",
        "\n",
        "# # Define the path to the directory containing the dataset files\n",
        "# data_directory = 'D:/CICIoT2023/'\n",
        "\n",
        "# # Define the desired classes\n",
        "# desired_classes = ['SqlInjection', 'BenignTraffic','CommandInjection']\n",
        "\n",
        "# # Initialize an empty DataFrame to store the filtered data\n",
        "# filtered_data = pd.DataFrame()\n",
        "\n",
        "# # Iterate over all files in the directory\n",
        "# for filename in os.listdir(data_directory):\n",
        "#     if filename.endswith(\".csv\"):  # Assuming the files are in CSV format\n",
        "#         file_path = os.path.join(data_directory, filename)\n",
        "\n",
        "#         # Read the file into a DataFrame\n",
        "#         df = pd.read_csv(file_path)\n",
        "\n",
        "#         # Filter the DataFrame for the desired classes\n",
        "#         filtered_df = df[df['label'].isin(desired_classes)]\n",
        "\n",
        "#         # Append the filtered DataFrame to the overall filtered data\n",
        "#         filtered_data = pd.concat([filtered_data, filtered_df], ignore_index=True)\n",
        "\n",
        "# # Save the filtered data to a new CSV file\n",
        "# filtered_data.to_csv('filtered_data_ciciot2023.csv', index=False)\n"
      ]
    },
    {
      "cell_type": "markdown",
      "id": "35fff51d-4dde-4bcf-aa53-0fdc9cf7899f",
      "metadata": {
        "id": "35fff51d-4dde-4bcf-aa53-0fdc9cf7899f"
      },
      "source": [
        "### Data Analysis"
      ]
    },
    {
      "cell_type": "markdown",
      "id": "623d7640-381c-4504-9254-bc68cc73449d",
      "metadata": {
        "id": "623d7640-381c-4504-9254-bc68cc73449d"
      },
      "source": [
        "# Machine Learning"
      ]
    },
    {
      "cell_type": "code",
      "source": [
        "from google.colab import drive\n",
        "drive.mount('/content/drive')"
      ],
      "metadata": {
        "colab": {
          "base_uri": "https://localhost:8080/"
        },
        "id": "kylw-qoRFMYI",
        "outputId": "f1573577-7cc4-442a-ec7a-a2260a98ab01"
      },
      "id": "kylw-qoRFMYI",
      "execution_count": null,
      "outputs": [
        {
          "output_type": "stream",
          "name": "stdout",
          "text": [
            "Mounted at /content/drive\n"
          ]
        }
      ]
    },
    {
      "cell_type": "code",
      "source": [
        "import pandas as pd\n",
        "import numpy as np\n",
        "import os\n",
        "from tqdm import tqdm\n",
        "import warnings\n",
        "warnings.filterwarnings(\"ignore\")\n",
        "import seaborn as sns\n",
        "import matplotlib.pyplot as plt"
      ],
      "metadata": {
        "id": "amsgaYznFyRk"
      },
      "id": "amsgaYznFyRk",
      "execution_count": null,
      "outputs": []
    },
    {
      "cell_type": "code",
      "execution_count": null,
      "id": "68299565-9776-4109-99c0-22b13e652eda",
      "metadata": {
        "id": "68299565-9776-4109-99c0-22b13e652eda"
      },
      "outputs": [],
      "source": [
        "df=pd.read_csv('/content/drive/MyDrive/dataset/filtered_data_ciciot2023.csv')"
      ]
    },
    {
      "cell_type": "code",
      "execution_count": null,
      "id": "41858e46-41f0-428e-970b-21c1f376b771",
      "metadata": {
        "colab": {
          "base_uri": "https://localhost:8080/"
        },
        "id": "41858e46-41f0-428e-970b-21c1f376b771",
        "outputId": "17b814eb-2762-4c06-88cd-15465e9ab09f"
      },
      "outputs": [
        {
          "output_type": "stream",
          "name": "stdout",
          "text": [
            "<class 'pandas.core.frame.DataFrame'>\n",
            "RangeIndex: 1108849 entries, 0 to 1108848\n",
            "Data columns (total 47 columns):\n",
            " #   Column           Non-Null Count    Dtype  \n",
            "---  ------           --------------    -----  \n",
            " 0   flow_duration    1108849 non-null  float64\n",
            " 1   Header_Length    1108849 non-null  float64\n",
            " 2   Protocol Type    1108849 non-null  float64\n",
            " 3   Duration         1108849 non-null  float64\n",
            " 4   Rate             1108849 non-null  float64\n",
            " 5   Srate            1108849 non-null  float64\n",
            " 6   Drate            1108849 non-null  float64\n",
            " 7   fin_flag_number  1108849 non-null  float64\n",
            " 8   syn_flag_number  1108849 non-null  float64\n",
            " 9   rst_flag_number  1108849 non-null  float64\n",
            " 10  psh_flag_number  1108849 non-null  float64\n",
            " 11  ack_flag_number  1108849 non-null  float64\n",
            " 12  ece_flag_number  1108849 non-null  float64\n",
            " 13  cwr_flag_number  1108849 non-null  float64\n",
            " 14  ack_count        1108849 non-null  float64\n",
            " 15  syn_count        1108849 non-null  float64\n",
            " 16  fin_count        1108849 non-null  float64\n",
            " 17  urg_count        1108849 non-null  float64\n",
            " 18  rst_count        1108849 non-null  float64\n",
            " 19  HTTP             1108849 non-null  float64\n",
            " 20  HTTPS            1108849 non-null  float64\n",
            " 21  DNS              1108849 non-null  float64\n",
            " 22  Telnet           1108849 non-null  float64\n",
            " 23  SMTP             1108849 non-null  float64\n",
            " 24  SSH              1108849 non-null  float64\n",
            " 25  IRC              1108849 non-null  float64\n",
            " 26  TCP              1108849 non-null  float64\n",
            " 27  UDP              1108849 non-null  float64\n",
            " 28  DHCP             1108849 non-null  float64\n",
            " 29  ARP              1108849 non-null  float64\n",
            " 30  ICMP             1108849 non-null  float64\n",
            " 31  IPv              1108849 non-null  float64\n",
            " 32  LLC              1108849 non-null  float64\n",
            " 33  Tot sum          1108849 non-null  float64\n",
            " 34  Min              1108849 non-null  float64\n",
            " 35  Max              1108849 non-null  float64\n",
            " 36  AVG              1108849 non-null  float64\n",
            " 37  Std              1108849 non-null  float64\n",
            " 38  Tot size         1108849 non-null  float64\n",
            " 39  IAT              1108849 non-null  float64\n",
            " 40  Number           1108849 non-null  float64\n",
            " 41  Magnitue         1108849 non-null  float64\n",
            " 42  Radius           1108849 non-null  float64\n",
            " 43  Covariance       1108849 non-null  float64\n",
            " 44  Variance         1108849 non-null  float64\n",
            " 45  Weight           1108849 non-null  float64\n",
            " 46  label            1108849 non-null  object \n",
            "dtypes: float64(46), object(1)\n",
            "memory usage: 397.6+ MB\n"
          ]
        }
      ],
      "source": [
        "df.info()"
      ]
    },
    {
      "cell_type": "code",
      "execution_count": null,
      "id": "8090dbc3-872f-4771-a990-304d8ff8f412",
      "metadata": {
        "colab": {
          "base_uri": "https://localhost:8080/",
          "height": 209
        },
        "id": "8090dbc3-872f-4771-a990-304d8ff8f412",
        "outputId": "17b0789b-66b0-43ae-d078-a9999ba73a79"
      },
      "outputs": [
        {
          "output_type": "execute_result",
          "data": {
            "text/plain": [
              "label\n",
              "BenignTraffic       1098195\n",
              "CommandInjection       5409\n",
              "SqlInjection           5245\n",
              "Name: count, dtype: int64"
            ],
            "text/html": [
              "<div>\n",
              "<style scoped>\n",
              "    .dataframe tbody tr th:only-of-type {\n",
              "        vertical-align: middle;\n",
              "    }\n",
              "\n",
              "    .dataframe tbody tr th {\n",
              "        vertical-align: top;\n",
              "    }\n",
              "\n",
              "    .dataframe thead th {\n",
              "        text-align: right;\n",
              "    }\n",
              "</style>\n",
              "<table border=\"1\" class=\"dataframe\">\n",
              "  <thead>\n",
              "    <tr style=\"text-align: right;\">\n",
              "      <th></th>\n",
              "      <th>count</th>\n",
              "    </tr>\n",
              "    <tr>\n",
              "      <th>label</th>\n",
              "      <th></th>\n",
              "    </tr>\n",
              "  </thead>\n",
              "  <tbody>\n",
              "    <tr>\n",
              "      <th>BenignTraffic</th>\n",
              "      <td>1098195</td>\n",
              "    </tr>\n",
              "    <tr>\n",
              "      <th>CommandInjection</th>\n",
              "      <td>5409</td>\n",
              "    </tr>\n",
              "    <tr>\n",
              "      <th>SqlInjection</th>\n",
              "      <td>5245</td>\n",
              "    </tr>\n",
              "  </tbody>\n",
              "</table>\n",
              "</div><br><label><b>dtype:</b> int64</label>"
            ]
          },
          "metadata": {},
          "execution_count": 7
        }
      ],
      "source": [
        "df['label'].value_counts()"
      ]
    },
    {
      "cell_type": "code",
      "source": [],
      "metadata": {
        "id": "Zh9YBpSqxWxX"
      },
      "id": "Zh9YBpSqxWxX",
      "execution_count": null,
      "outputs": []
    },
    {
      "cell_type": "code",
      "execution_count": null,
      "id": "a3477284-b3e5-4942-baa9-e7e4d73299bf",
      "metadata": {
        "id": "a3477284-b3e5-4942-baa9-e7e4d73299bf"
      },
      "outputs": [],
      "source": [
        "df_ben=df[df['label']=='BenignTraffic'][:5400]"
      ]
    },
    {
      "cell_type": "code",
      "source": [
        "df[\"label\"].value_counts()"
      ],
      "metadata": {
        "colab": {
          "base_uri": "https://localhost:8080/",
          "height": 209
        },
        "id": "GC9V_g-P0ACv",
        "outputId": "8ae760ab-dc80-4efe-a2ef-65478cfff632"
      },
      "id": "GC9V_g-P0ACv",
      "execution_count": null,
      "outputs": [
        {
          "output_type": "execute_result",
          "data": {
            "text/plain": [
              "label\n",
              "BenignTraffic       1098195\n",
              "CommandInjection       5409\n",
              "SqlInjection           5245\n",
              "Name: count, dtype: int64"
            ],
            "text/html": [
              "<div>\n",
              "<style scoped>\n",
              "    .dataframe tbody tr th:only-of-type {\n",
              "        vertical-align: middle;\n",
              "    }\n",
              "\n",
              "    .dataframe tbody tr th {\n",
              "        vertical-align: top;\n",
              "    }\n",
              "\n",
              "    .dataframe thead th {\n",
              "        text-align: right;\n",
              "    }\n",
              "</style>\n",
              "<table border=\"1\" class=\"dataframe\">\n",
              "  <thead>\n",
              "    <tr style=\"text-align: right;\">\n",
              "      <th></th>\n",
              "      <th>count</th>\n",
              "    </tr>\n",
              "    <tr>\n",
              "      <th>label</th>\n",
              "      <th></th>\n",
              "    </tr>\n",
              "  </thead>\n",
              "  <tbody>\n",
              "    <tr>\n",
              "      <th>BenignTraffic</th>\n",
              "      <td>1098195</td>\n",
              "    </tr>\n",
              "    <tr>\n",
              "      <th>CommandInjection</th>\n",
              "      <td>5409</td>\n",
              "    </tr>\n",
              "    <tr>\n",
              "      <th>SqlInjection</th>\n",
              "      <td>5245</td>\n",
              "    </tr>\n",
              "  </tbody>\n",
              "</table>\n",
              "</div><br><label><b>dtype:</b> int64</label>"
            ]
          },
          "metadata": {},
          "execution_count": 12
        }
      ]
    },
    {
      "cell_type": "code",
      "source": [
        "sns.countplot(x=\"label\",data=df)"
      ],
      "metadata": {
        "colab": {
          "base_uri": "https://localhost:8080/",
          "height": 483
        },
        "id": "gBEavRaoz0yN",
        "outputId": "49907676-bb2f-44be-b5ca-9303e111fc05"
      },
      "id": "gBEavRaoz0yN",
      "execution_count": null,
      "outputs": [
        {
          "output_type": "execute_result",
          "data": {
            "text/plain": [
              "<Axes: xlabel='label', ylabel='count'>"
            ]
          },
          "metadata": {},
          "execution_count": 13
        },
        {
          "output_type": "display_data",
          "data": {
            "text/plain": [
              "<Figure size 640x480 with 1 Axes>"
            ],
            "image/png": "[encoded data removed]"
          },
          "metadata": {}
        }
      ]
    },
    {
      "cell_type": "code",
      "source": [
        "plt.subplot(121)\n",
        "sns.countplot(x=\"label\",data=df)\n",
        "plt.title(\"Original: CICIOT2023 \")\n",
        "\n",
        "plt.subplot(122)\n",
        "sns.countplot(x=\"label\",data=df_ben)\n",
        "plt.title(\"After Undersampling: CICIOT2023 \")"
      ],
      "metadata": {
        "colab": {
          "base_uri": "https://localhost:8080/",
          "height": 505
        },
        "id": "GXo9FmTIyGXe",
        "outputId": "ef478a2a-8843-4c9b-f21a-2f0b08251e3c"
      },
      "id": "GXo9FmTIyGXe",
      "execution_count": null,
      "outputs": [
        {
          "output_type": "execute_result",
          "data": {
            "text/plain": [
              "Text(0.5, 1.0, 'After Undersampling: CICIOT2023 ')"
            ]
          },
          "metadata": {},
          "execution_count": 9
        },
        {
          "output_type": "display_data",
          "data": {
            "text/plain": [
              "<Figure size 640x480 with 2 Axes>"
            ],
            "image/png": "[encoded data removed]"
          },
          "metadata": {}
        }
      ]
    },
    {
      "cell_type": "code",
      "source": [
        "sns.countplot(x=\"label\",data=df_ben)"
      ],
      "metadata": {
        "colab": {
          "base_uri": "https://localhost:8080/",
          "height": 467
        },
        "id": "cQViTXSnxbjv",
        "outputId": "e8e19ddb-42a6-49d8-f4ce-af7e77afaeb1"
      },
      "id": "cQViTXSnxbjv",
      "execution_count": null,
      "outputs": [
        {
          "output_type": "execute_result",
          "data": {
            "text/plain": [
              "<Axes: xlabel='label', ylabel='count'>"
            ]
          },
          "metadata": {},
          "execution_count": 15
        },
        {
          "output_type": "display_data",
          "data": {
            "text/plain": [
              "<Figure size 640x480 with 1 Axes>"
            ],
            "image/png": "[encoded data removed]"
          },
          "metadata": {}
        }
      ]
    },
    {
      "cell_type": "code",
      "execution_count": null,
      "id": "7c7468eb-0b04-44c0-9138-58f3527eb0e7",
      "metadata": {
        "id": "7c7468eb-0b04-44c0-9138-58f3527eb0e7"
      },
      "outputs": [],
      "source": [
        "df_sql=df[df['label']=='SqlInjection']\n",
        "#df_cinj=df[df['label']=='CommandInjection']"
      ]
    },
    {
      "cell_type": "code",
      "execution_count": null,
      "id": "f309fa2e-d30f-4958-a6a3-cb8ac0af08f8",
      "metadata": {
        "id": "f309fa2e-d30f-4958-a6a3-cb8ac0af08f8"
      },
      "outputs": [],
      "source": [
        "dfx=pd.concat([df_ben,df_sql])"
      ]
    },
    {
      "cell_type": "code",
      "execution_count": null,
      "id": "2cb1028e-3a4f-4dc2-bb3c-21338c9caed6",
      "metadata": {
        "colab": {
          "base_uri": "https://localhost:8080/"
        },
        "id": "2cb1028e-3a4f-4dc2-bb3c-21338c9caed6",
        "outputId": "96fee167-575a-4973-f6da-b136451eba2c"
      },
      "outputs": [
        {
          "output_type": "stream",
          "name": "stdout",
          "text": [
            "<class 'pandas.core.frame.DataFrame'>\n",
            "Index: 10645 entries, 0 to 1108590\n",
            "Data columns (total 47 columns):\n",
            " #   Column           Non-Null Count  Dtype  \n",
            "---  ------           --------------  -----  \n",
            " 0   flow_duration    10645 non-null  float64\n",
            " 1   Header_Length    10645 non-null  float64\n",
            " 2   Protocol Type    10645 non-null  float64\n",
            " 3   Duration         10645 non-null  float64\n",
            " 4   Rate             10645 non-null  float64\n",
            " 5   Srate            10645 non-null  float64\n",
            " 6   Drate            10645 non-null  float64\n",
            " 7   fin_flag_number  10645 non-null  float64\n",
            " 8   syn_flag_number  10645 non-null  float64\n",
            " 9   rst_flag_number  10645 non-null  float64\n",
            " 10  psh_flag_number  10645 non-null  float64\n",
            " 11  ack_flag_number  10645 non-null  float64\n",
            " 12  ece_flag_number  10645 non-null  float64\n",
            " 13  cwr_flag_number  10645 non-null  float64\n",
            " 14  ack_count        10645 non-null  float64\n",
            " 15  syn_count        10645 non-null  float64\n",
            " 16  fin_count        10645 non-null  float64\n",
            " 17  urg_count        10645 non-null  float64\n",
            " 18  rst_count        10645 non-null  float64\n",
            " 19  HTTP             10645 non-null  float64\n",
            " 20  HTTPS            10645 non-null  float64\n",
            " 21  DNS              10645 non-null  float64\n",
            " 22  Telnet           10645 non-null  float64\n",
            " 23  SMTP             10645 non-null  float64\n",
            " 24  SSH              10645 non-null  float64\n",
            " 25  IRC              10645 non-null  float64\n",
            " 26  TCP              10645 non-null  float64\n",
            " 27  UDP              10645 non-null  float64\n",
            " 28  DHCP             10645 non-null  float64\n",
            " 29  ARP              10645 non-null  float64\n",
            " 30  ICMP             10645 non-null  float64\n",
            " 31  IPv              10645 non-null  float64\n",
            " 32  LLC              10645 non-null  float64\n",
            " 33  Tot sum          10645 non-null  float64\n",
            " 34  Min              10645 non-null  float64\n",
            " 35  Max              10645 non-null  float64\n",
            " 36  AVG              10645 non-null  float64\n",
            " 37  Std              10645 non-null  float64\n",
            " 38  Tot size         10645 non-null  float64\n",
            " 39  IAT              10645 non-null  float64\n",
            " 40  Number           10645 non-null  float64\n",
            " 41  Magnitue         10645 non-null  float64\n",
            " 42  Radius           10645 non-null  float64\n",
            " 43  Covariance       10645 non-null  float64\n",
            " 44  Variance         10645 non-null  float64\n",
            " 45  Weight           10645 non-null  float64\n",
            " 46  label            10645 non-null  object \n",
            "dtypes: float64(46), object(1)\n",
            "memory usage: 3.9+ MB\n"
          ]
        }
      ],
      "source": [
        "dfx.info()"
      ]
    },
    {
      "cell_type": "code",
      "execution_count": null,
      "id": "876c1e4c-d8e8-47d6-b7c0-b7c64b263dd3",
      "metadata": {
        "colab": {
          "base_uri": "https://localhost:8080/",
          "height": 178
        },
        "id": "876c1e4c-d8e8-47d6-b7c0-b7c64b263dd3",
        "outputId": "5481cfa5-e6f9-4d1e-aabd-0d32635a0381"
      },
      "outputs": [
        {
          "output_type": "execute_result",
          "data": {
            "text/plain": [
              "label\n",
              "BenignTraffic    5400\n",
              "SqlInjection     5245\n",
              "Name: count, dtype: int64"
            ],
            "text/html": [
              "<div>\n",
              "<style scoped>\n",
              "    .dataframe tbody tr th:only-of-type {\n",
              "        vertical-align: middle;\n",
              "    }\n",
              "\n",
              "    .dataframe tbody tr th {\n",
              "        vertical-align: top;\n",
              "    }\n",
              "\n",
              "    .dataframe thead th {\n",
              "        text-align: right;\n",
              "    }\n",
              "</style>\n",
              "<table border=\"1\" class=\"dataframe\">\n",
              "  <thead>\n",
              "    <tr style=\"text-align: right;\">\n",
              "      <th></th>\n",
              "      <th>count</th>\n",
              "    </tr>\n",
              "    <tr>\n",
              "      <th>label</th>\n",
              "      <th></th>\n",
              "    </tr>\n",
              "  </thead>\n",
              "  <tbody>\n",
              "    <tr>\n",
              "      <th>BenignTraffic</th>\n",
              "      <td>5400</td>\n",
              "    </tr>\n",
              "    <tr>\n",
              "      <th>SqlInjection</th>\n",
              "      <td>5245</td>\n",
              "    </tr>\n",
              "  </tbody>\n",
              "</table>\n",
              "</div><br><label><b>dtype:</b> int64</label>"
            ]
          },
          "metadata": {},
          "execution_count": 19
        }
      ],
      "source": [
        "dfx['label'].value_counts()"
      ]
    },
    {
      "cell_type": "code",
      "source": [
        "sns.countplot(x=\"label\",data=dfx)"
      ],
      "metadata": {
        "colab": {
          "base_uri": "https://localhost:8080/",
          "height": 467
        },
        "id": "BXC3_egY0v-N",
        "outputId": "0336ba1a-aa9a-4df1-9715-9a8ba25d0960"
      },
      "id": "BXC3_egY0v-N",
      "execution_count": null,
      "outputs": [
        {
          "output_type": "execute_result",
          "data": {
            "text/plain": [
              "<Axes: xlabel='label', ylabel='count'>"
            ]
          },
          "metadata": {},
          "execution_count": 20
        },
        {
          "output_type": "display_data",
          "data": {
            "text/plain": [
              "<Figure size 640x480 with 1 Axes>"
            ],
            "image/png": "[encoded data removed]"
          },
          "metadata": {}
        }
      ]
    },
    {
      "cell_type": "code",
      "execution_count": null,
      "id": "651b398f-5eae-4642-9126-d9b77e79c25f",
      "metadata": {
        "id": "651b398f-5eae-4642-9126-d9b77e79c25f"
      },
      "outputs": [],
      "source": [
        "dfx['label']=dfx['label'].replace({'CommandInjection':0,'BenignTraffic':1,'SqlInjection':2})"
      ]
    },
    {
      "cell_type": "code",
      "execution_count": null,
      "id": "61dc9509-b1d9-4c9f-821f-31d42754a464",
      "metadata": {
        "id": "61dc9509-b1d9-4c9f-821f-31d42754a464"
      },
      "outputs": [],
      "source": [
        "x=dfx.drop('label',axis=1)\n",
        "y=dfx['label']"
      ]
    },
    {
      "cell_type": "code",
      "execution_count": null,
      "id": "ea6ad88a-d728-47ae-9dcc-dffeb23cc305",
      "metadata": {
        "id": "ea6ad88a-d728-47ae-9dcc-dffeb23cc305"
      },
      "outputs": [],
      "source": [
        "from sklearn.model_selection import train_test_split"
      ]
    },
    {
      "cell_type": "code",
      "execution_count": null,
      "id": "40915373-07d6-4a7a-83bb-c2d4f4316629",
      "metadata": {
        "id": "40915373-07d6-4a7a-83bb-c2d4f4316629"
      },
      "outputs": [],
      "source": [
        "X_train,X_test,y_train,y_test=train_test_split(x,y,test_size=0.3)"
      ]
    },
    {
      "cell_type": "code",
      "execution_count": null,
      "id": "618ef447-d8fc-45e3-bddb-352dc263cbc4",
      "metadata": {
        "colab": {
          "base_uri": "https://localhost:8080/",
          "height": 461
        },
        "id": "618ef447-d8fc-45e3-bddb-352dc263cbc4",
        "outputId": "67cff8b8-a8e2-42d9-cfee-81c6ed8bd1c6"
      },
      "outputs": [
        {
          "output_type": "execute_result",
          "data": {
            "text/plain": [
              "        flow_duration  Header_Length  Protocol Type  Duration        Rate  \\\n",
              "5306        18.480216       898463.3            7.1      98.3   48.552487   \n",
              "105498       0.059807          713.4            7.1      62.6  239.095602   \n",
              "982054    1466.946842        32481.5            8.2     136.0   24.649498   \n",
              "248329     442.226523        46410.9           10.4     130.9    3.564259   \n",
              "2110        66.923291      3511854.7            6.5      76.7   50.123103   \n",
              "...               ...            ...            ...       ...         ...   \n",
              "292          1.609854        16963.2            8.2     143.0   27.336533   \n",
              "5230         2.300420      3163402.2            6.0      55.2  624.016114   \n",
              "188240     203.280809        40808.4           12.6      63.5    2.667695   \n",
              "664         51.873598      2856734.2            6.0      80.8   54.116824   \n",
              "623         22.758444       437341.2            7.1     153.9   69.865565   \n",
              "\n",
              "             Srate  Drate  fin_flag_number  syn_flag_number  rst_flag_number  \\\n",
              "5306     48.552487    0.0              0.0              0.0              0.0   \n",
              "105498  239.095602    0.0              0.0              0.0              0.0   \n",
              "982054   24.649498    0.0              0.0              0.0              0.0   \n",
              "248329    3.564259    0.0              0.0              0.0              0.0   \n",
              "2110     50.123103    0.0              0.0              0.0              0.0   \n",
              "...            ...    ...              ...              ...              ...   \n",
              "292      27.336533    0.0              0.0              0.0              0.0   \n",
              "5230    624.016114    0.0              0.0              0.0              0.0   \n",
              "188240    2.667695    0.0              0.0              0.0              0.0   \n",
              "664      54.116824    0.0              0.0              0.0              0.0   \n",
              "623      69.865565    0.0              0.0              0.0              0.0   \n",
              "\n",
              "        ...          AVG          Std  Tot size           IAT  Number  \\\n",
              "5306    ...   470.416230   512.410232     968.1  8.477783e-03     5.5   \n",
              "105498  ...   173.218770   178.093528     160.7  1.579785e-03     5.5   \n",
              "982054  ...    69.656389    12.454302      76.3  1.042159e-02     5.5   \n",
              "248329  ...   195.534921    81.693107     211.3  2.686210e-02     5.5   \n",
              "2110    ...   630.882265  1245.251587    2311.3  1.665218e+08    13.5   \n",
              "...     ...          ...          ...       ...           ...     ...   \n",
              "292     ...   536.272381   755.227692     555.9  7.422304e-03     5.5   \n",
              "5230    ...   942.015855  1441.011994    2672.4  1.665237e+08    13.5   \n",
              "188240  ...   117.842599   168.678295      76.1  1.664818e+08    13.5   \n",
              "664     ...  1447.682778   125.980098    1163.3  4.031396e-03     5.5   \n",
              "623     ...    67.023175     2.340522      69.2  1.607740e-02     5.5   \n",
              "\n",
              "         Magnitue       Radius    Covariance  Variance  Weight  \n",
              "5306    28.148552   724.657500  4.965950e+05       0.9    38.5  \n",
              "105498  18.269110   251.862283  4.001841e+04       0.9    38.5  \n",
              "982054  11.783620    17.613043  1.928697e+02       0.9    38.5  \n",
              "248329  19.737715   115.531500  7.542265e+03       0.9    38.5  \n",
              "2110    32.467356  1768.849782  2.414128e+06       1.0   244.6  \n",
              "...           ...          ...           ...       ...     ...  \n",
              "292     30.373043  1068.053244  8.188426e+05       0.9    38.5  \n",
              "5230    42.643349  2038.429223  2.131919e+06       1.0   244.6  \n",
              "188240  15.323072   239.036068  2.875710e+04       1.0   244.6  \n",
              "664     53.760631   178.162763  5.986016e+04       0.3    38.5  \n",
              "623     11.577312     3.309999  1.359548e+01       0.5    38.5  \n",
              "\n",
              "[7451 rows x 46 columns]"
            ],
            "text/html": [
              "\n",
              "  <div id=\"df-ce3fe4d7-0c16-4d85-88e8-761fcd58f831\" class=\"colab-df-container\">\n",
              "    <div>\n",
              "<style scoped>\n",
              "    .dataframe tbody tr th:only-of-type {\n",
              "        vertical-align: middle;\n",
              "    }\n",
              "\n",
              "    .dataframe tbody tr th {\n",
              "        vertical-align: top;\n",
              "    }\n",
              "\n",
              "    .dataframe thead th {\n",
              "        text-align: right;\n",
              "    }\n",
              "</style>\n",
              "<table border=\"1\" class=\"dataframe\">\n",
              "  <thead>\n",
              "    <tr style=\"text-align: right;\">\n",
              "      <th></th>\n",
              "      <th>flow_duration</th>\n",
              "      <th>Header_Length</th>\n",
              "      <th>Protocol Type</th>\n",
              "      <th>Duration</th>\n",
              "      <th>Rate</th>\n",
              "      <th>Srate</th>\n",
              "      <th>Drate</th>\n",
              "      <th>fin_flag_number</th>\n",
              "      <th>syn_flag_number</th>\n",
              "      <th>rst_flag_number</th>\n",
              "      <th>...</th>\n",
              "      <th>AVG</th>\n",
              "      <th>Std</th>\n",
              "      <th>Tot size</th>\n",
              "      <th>IAT</th>\n",
              "      <th>Number</th>\n",
              "      <th>Magnitue</th>\n",
              "      <th>Radius</th>\n",
              "      <th>Covariance</th>\n",
              "      <th>Variance</th>\n",
              "      <th>Weight</th>\n",
              "    </tr>\n",
              "  </thead>\n",
              "  <tbody>\n",
              "    <tr>\n",
              "      <th>5306</th>\n",
              "      <td>18.480216</td>\n",
              "      <td>898463.3</td>\n",
              "      <td>7.1</td>\n",
              "      <td>98.3</td>\n",
              "      <td>48.552487</td>\n",
              "      <td>48.552487</td>\n",
              "      <td>0.0</td>\n",
              "      <td>0.0</td>\n",
              "      <td>0.0</td>\n",
              "      <td>0.0</td>\n",
              "      <td>...</td>\n",
              "      <td>470.416230</td>\n",
              "      <td>512.410232</td>\n",
              "      <td>968.1</td>\n",
              "      <td>8.477783e-03</td>\n",
              "      <td>5.5</td>\n",
              "      <td>28.148552</td>\n",
              "      <td>724.657500</td>\n",
              "      <td>4.965950e+05</td>\n",
              "      <td>0.9</td>\n",
              "      <td>38.5</td>\n",
              "    </tr>\n",
              "    <tr>\n",
              "      <th>105498</th>\n",
              "      <td>0.059807</td>\n",
              "      <td>713.4</td>\n",
              "      <td>7.1</td>\n",
              "      <td>62.6</td>\n",
              "      <td>239.095602</td>\n",
              "      <td>239.095602</td>\n",
              "      <td>0.0</td>\n",
              "      <td>0.0</td>\n",
              "      <td>0.0</td>\n",
              "      <td>0.0</td>\n",
              "      <td>...</td>\n",
              "      <td>173.218770</td>\n",
              "      <td>178.093528</td>\n",
              "      <td>160.7</td>\n",
              "      <td>1.579785e-03</td>\n",
              "      <td>5.5</td>\n",
              "      <td>18.269110</td>\n",
              "      <td>251.862283</td>\n",
              "      <td>4.001841e+04</td>\n",
              "      <td>0.9</td>\n",
              "      <td>38.5</td>\n",
              "    </tr>\n",
              "    <tr>\n",
              "      <th>982054</th>\n",
              "      <td>1466.946842</td>\n",
              "      <td>32481.5</td>\n",
              "      <td>8.2</td>\n",
              "      <td>136.0</td>\n",
              "      <td>24.649498</td>\n",
              "      <td>24.649498</td>\n",
              "      <td>0.0</td>\n",
              "      <td>0.0</td>\n",
              "      <td>0.0</td>\n",
              "      <td>0.0</td>\n",
              "      <td>...</td>\n",
              "      <td>69.656389</td>\n",
              "      <td>12.454302</td>\n",
              "      <td>76.3</td>\n",
              "      <td>1.042159e-02</td>\n",
              "      <td>5.5</td>\n",
              "      <td>11.783620</td>\n",
              "      <td>17.613043</td>\n",
              "      <td>1.928697e+02</td>\n",
              "      <td>0.9</td>\n",
              "      <td>38.5</td>\n",
              "    </tr>\n",
              "    <tr>\n",
              "      <th>248329</th>\n",
              "      <td>442.226523</td>\n",
              "      <td>46410.9</td>\n",
              "      <td>10.4</td>\n",
              "      <td>130.9</td>\n",
              "      <td>3.564259</td>\n",
              "      <td>3.564259</td>\n",
              "      <td>0.0</td>\n",
              "      <td>0.0</td>\n",
              "      <td>0.0</td>\n",
              "      <td>0.0</td>\n",
              "      <td>...</td>\n",
              "      <td>195.534921</td>\n",
              "      <td>81.693107</td>\n",
              "      <td>211.3</td>\n",
              "      <td>2.686210e-02</td>\n",
              "      <td>5.5</td>\n",
              "      <td>19.737715</td>\n",
              "      <td>115.531500</td>\n",
              "      <td>7.542265e+03</td>\n",
              "      <td>0.9</td>\n",
              "      <td>38.5</td>\n",
              "    </tr>\n",
              "    <tr>\n",
              "      <th>2110</th>\n",
              "      <td>66.923291</td>\n",
              "      <td>3511854.7</td>\n",
              "      <td>6.5</td>\n",
              "      <td>76.7</td>\n",
              "      <td>50.123103</td>\n",
              "      <td>50.123103</td>\n",
              "      <td>0.0</td>\n",
              "      <td>0.0</td>\n",
              "      <td>0.0</td>\n",
              "      <td>0.0</td>\n",
              "      <td>...</td>\n",
              "      <td>630.882265</td>\n",
              "      <td>1245.251587</td>\n",
              "      <td>2311.3</td>\n",
              "      <td>1.665218e+08</td>\n",
              "      <td>13.5</td>\n",
              "      <td>32.467356</td>\n",
              "      <td>1768.849782</td>\n",
              "      <td>2.414128e+06</td>\n",
              "      <td>1.0</td>\n",
              "      <td>244.6</td>\n",
              "    </tr>\n",
              "    <tr>\n",
              "      <th>...</th>\n",
              "      <td>...</td>\n",
              "      <td>...</td>\n",
              "      <td>...</td>\n",
              "      <td>...</td>\n",
              "      <td>...</td>\n",
              "      <td>...</td>\n",
              "      <td>...</td>\n",
              "      <td>...</td>\n",
              "      <td>...</td>\n",
              "      <td>...</td>\n",
              "      <td>...</td>\n",
              "      <td>...</td>\n",
              "      <td>...</td>\n",
              "      <td>...</td>\n",
              "      <td>...</td>\n",
              "      <td>...</td>\n",
              "      <td>...</td>\n",
              "      <td>...</td>\n",
              "      <td>...</td>\n",
              "      <td>...</td>\n",
              "      <td>...</td>\n",
              "    </tr>\n",
              "    <tr>\n",
              "      <th>292</th>\n",
              "      <td>1.609854</td>\n",
              "      <td>16963.2</td>\n",
              "      <td>8.2</td>\n",
              "      <td>143.0</td>\n",
              "      <td>27.336533</td>\n",
              "      <td>27.336533</td>\n",
              "      <td>0.0</td>\n",
              "      <td>0.0</td>\n",
              "      <td>0.0</td>\n",
              "      <td>0.0</td>\n",
              "      <td>...</td>\n",
              "      <td>536.272381</td>\n",
              "      <td>755.227692</td>\n",
              "      <td>555.9</td>\n",
              "      <td>7.422304e-03</td>\n",
              "      <td>5.5</td>\n",
              "      <td>30.373043</td>\n",
              "      <td>1068.053244</td>\n",
              "      <td>8.188426e+05</td>\n",
              "      <td>0.9</td>\n",
              "      <td>38.5</td>\n",
              "    </tr>\n",
              "    <tr>\n",
              "      <th>5230</th>\n",
              "      <td>2.300420</td>\n",
              "      <td>3163402.2</td>\n",
              "      <td>6.0</td>\n",
              "      <td>55.2</td>\n",
              "      <td>624.016114</td>\n",
              "      <td>624.016114</td>\n",
              "      <td>0.0</td>\n",
              "      <td>0.0</td>\n",
              "      <td>0.0</td>\n",
              "      <td>0.0</td>\n",
              "      <td>...</td>\n",
              "      <td>942.015855</td>\n",
              "      <td>1441.011994</td>\n",
              "      <td>2672.4</td>\n",
              "      <td>1.665237e+08</td>\n",
              "      <td>13.5</td>\n",
              "      <td>42.643349</td>\n",
              "      <td>2038.429223</td>\n",
              "      <td>2.131919e+06</td>\n",
              "      <td>1.0</td>\n",
              "      <td>244.6</td>\n",
              "    </tr>\n",
              "    <tr>\n",
              "      <th>188240</th>\n",
              "      <td>203.280809</td>\n",
              "      <td>40808.4</td>\n",
              "      <td>12.6</td>\n",
              "      <td>63.5</td>\n",
              "      <td>2.667695</td>\n",
              "      <td>2.667695</td>\n",
              "      <td>0.0</td>\n",
              "      <td>0.0</td>\n",
              "      <td>0.0</td>\n",
              "      <td>0.0</td>\n",
              "      <td>...</td>\n",
              "      <td>117.842599</td>\n",
              "      <td>168.678295</td>\n",
              "      <td>76.1</td>\n",
              "      <td>1.664818e+08</td>\n",
              "      <td>13.5</td>\n",
              "      <td>15.323072</td>\n",
              "      <td>239.036068</td>\n",
              "      <td>2.875710e+04</td>\n",
              "      <td>1.0</td>\n",
              "      <td>244.6</td>\n",
              "    </tr>\n",
              "    <tr>\n",
              "      <th>664</th>\n",
              "      <td>51.873598</td>\n",
              "      <td>2856734.2</td>\n",
              "      <td>6.0</td>\n",
              "      <td>80.8</td>\n",
              "      <td>54.116824</td>\n",
              "      <td>54.116824</td>\n",
              "      <td>0.0</td>\n",
              "      <td>0.0</td>\n",
              "      <td>0.0</td>\n",
              "      <td>0.0</td>\n",
              "      <td>...</td>\n",
              "      <td>1447.682778</td>\n",
              "      <td>125.980098</td>\n",
              "      <td>1163.3</td>\n",
              "      <td>4.031396e-03</td>\n",
              "      <td>5.5</td>\n",
              "      <td>53.760631</td>\n",
              "      <td>178.162763</td>\n",
              "      <td>5.986016e+04</td>\n",
              "      <td>0.3</td>\n",
              "      <td>38.5</td>\n",
              "    </tr>\n",
              "    <tr>\n",
              "      <th>623</th>\n",
              "      <td>22.758444</td>\n",
              "      <td>437341.2</td>\n",
              "      <td>7.1</td>\n",
              "      <td>153.9</td>\n",
              "      <td>69.865565</td>\n",
              "      <td>69.865565</td>\n",
              "      <td>0.0</td>\n",
              "      <td>0.0</td>\n",
              "      <td>0.0</td>\n",
              "      <td>0.0</td>\n",
              "      <td>...</td>\n",
              "      <td>67.023175</td>\n",
              "      <td>2.340522</td>\n",
              "      <td>69.2</td>\n",
              "      <td>1.607740e-02</td>\n",
              "      <td>5.5</td>\n",
              "      <td>11.577312</td>\n",
              "      <td>3.309999</td>\n",
              "      <td>1.359548e+01</td>\n",
              "      <td>0.5</td>\n",
              "      <td>38.5</td>\n",
              "    </tr>\n",
              "  </tbody>\n",
              "</table>\n",
              "<p>7451 rows × 46 columns</p>\n",
              "</div>\n",
              "    <div class=\"colab-df-buttons\">\n",
              "\n",
              "  <div class=\"colab-df-container\">\n",
              "    <button class=\"colab-df-convert\" onclick=\"convertToInteractive('df-ce3fe4d7-0c16-4d85-88e8-761fcd58f831')\"\n",
              "            title=\"Convert this dataframe to an interactive table.\"\n",
              "            style=\"display:none;\">\n",
              "\n",
              "  <svg xmlns=\"http://www.w3.org/2000/svg\" height=\"24px\" viewBox=\"0 -960 960 960\">\n",
              "    <path d=\"M120-120v-720h720v720H120Zm60-500h600v-160H180v160Zm220 220h160v-160H400v160Zm0 220h160v-160H400v160ZM180-400h160v-160H180v160Zm440 0h160v-160H620v160ZM180-180h160v-160H180v160Zm440 0h160v-160H620v160Z\"/>\n",
              "  </svg>\n",
              "    </button>\n",
              "\n",
              "  <style>\n",
              "    .colab-df-container {\n",
              "      display:flex;\n",
              "      gap: 12px;\n",
              "    }\n",
              "\n",
              "    .colab-df-convert {\n",
              "      background-color: #E8F0FE;\n",
              "      border: none;\n",
              "      border-radius: 50%;\n",
              "      cursor: pointer;\n",
              "      display: none;\n",
              "      fill: #1967D2;\n",
              "      height: 32px;\n",
              "      padding: 0 0 0 0;\n",
              "      width: 32px;\n",
              "    }\n",
              "\n",
              "    .colab-df-convert:hover {\n",
              "      background-color: #E2EBFA;\n",
              "      box-shadow: 0px 1px 2px rgba(60, 64, 67, 0.3), 0px 1px 3px 1px rgba(60, 64, 67, 0.15);\n",
              "      fill: #174EA6;\n",
              "    }\n",
              "\n",
              "    .colab-df-buttons div {\n",
              "      margin-bottom: 4px;\n",
              "    }\n",
              "\n",
              "    [theme=dark] .colab-df-convert {\n",
              "      background-color: #3B4455;\n",
              "      fill: #D2E3FC;\n",
              "    }\n",
              "\n",
              "    [theme=dark] .colab-df-convert:hover {\n",
              "      background-color: #434B5C;\n",
              "      box-shadow: 0px 1px 3px 1px rgba(0, 0, 0, 0.15);\n",
              "      filter: drop-shadow(0px 1px 2px rgba(0, 0, 0, 0.3));\n",
              "      fill: #FFFFFF;\n",
              "    }\n",
              "  </style>\n",
              "\n",
              "    <script>\n",
              "      const buttonEl =\n",
              "        document.querySelector('#df-ce3fe4d7-0c16-4d85-88e8-761fcd58f831 button.colab-df-convert');\n",
              "      buttonEl.style.display =\n",
              "        google.colab.kernel.accessAllowed ? 'block' : 'none';\n",
              "\n",
              "      async function convertToInteractive(key) {\n",
              "        const element = document.querySelector('#df-ce3fe4d7-0c16-4d85-88e8-761fcd58f831');\n",
              "        const dataTable =\n",
              "          await google.colab.kernel.invokeFunction('convertToInteractive',\n",
              "                                                    [key], {});\n",
              "        if (!dataTable) return;\n",
              "\n",
              "        const docLinkHtml = 'Like what you see? Visit the ' +\n",
              "          '<a target=\"_blank\" href=https://colab.research.google.com/notebooks/data_table.ipynb>data table notebook</a>'\n",
              "          + ' to learn more about interactive tables.';\n",
              "        element.innerHTML = '';\n",
              "        dataTable['output_type'] = 'display_data';\n",
              "        await google.colab.output.renderOutput(dataTable, element);\n",
              "        const docLink = document.createElement('div');\n",
              "        docLink.innerHTML = docLinkHtml;\n",
              "        element.appendChild(docLink);\n",
              "      }\n",
              "    </script>\n",
              "  </div>\n",
              "\n",
              "\n",
              "<div id=\"df-247245cf-1132-4be7-9f61-3ce81e4c7942\">\n",
              "  <button class=\"colab-df-quickchart\" onclick=\"quickchart('df-247245cf-1132-4be7-9f61-3ce81e4c7942')\"\n",
              "            title=\"Suggest charts\"\n",
              "            style=\"display:none;\">\n",
              "\n",
              "<svg xmlns=\"http://www.w3.org/2000/svg\" height=\"24px\"viewBox=\"0 0 24 24\"\n",
              "     width=\"24px\">\n",
              "    <g>\n",
              "        <path d=\"M19 3H5c-1.1 0-2 .9-2 2v14c0 1.1.9 2 2 2h14c1.1 0 2-.9 2-2V5c0-1.1-.9-2-2-2zM9 17H7v-7h2v7zm4 0h-2V7h2v10zm4 0h-2v-4h2v4z\"/>\n",
              "    </g>\n",
              "</svg>\n",
              "  </button>\n",
              "\n",
              "<style>\n",
              "  .colab-df-quickchart {\n",
              "      --bg-color: #E8F0FE;\n",
              "      --fill-color: #1967D2;\n",
              "      --hover-bg-color: #E2EBFA;\n",
              "      --hover-fill-color: #174EA6;\n",
              "      --disabled-fill-color: #AAA;\n",
              "      --disabled-bg-color: #DDD;\n",
              "  }\n",
              "\n",
              "  [theme=dark] .colab-df-quickchart {\n",
              "      --bg-color: #3B4455;\n",
              "      --fill-color: #D2E3FC;\n",
              "      --hover-bg-color: #434B5C;\n",
              "      --hover-fill-color: #FFFFFF;\n",
              "      --disabled-bg-color: #3B4455;\n",
              "      --disabled-fill-color: #666;\n",
              "  }\n",
              "\n",
              "  .colab-df-quickchart {\n",
              "    background-color: var(--bg-color);\n",
              "    border: none;\n",
              "    border-radius: 50%;\n",
              "    cursor: pointer;\n",
              "    display: none;\n",
              "    fill: var(--fill-color);\n",
              "    height: 32px;\n",
              "    padding: 0;\n",
              "    width: 32px;\n",
              "  }\n",
              "\n",
              "  .colab-df-quickchart:hover {\n",
              "    background-color: var(--hover-bg-color);\n",
              "    box-shadow: 0 1px 2px rgba(60, 64, 67, 0.3), 0 1px 3px 1px rgba(60, 64, 67, 0.15);\n",
              "    fill: var(--button-hover-fill-color);\n",
              "  }\n",
              "\n",
              "  .colab-df-quickchart-complete:disabled,\n",
              "  .colab-df-quickchart-complete:disabled:hover {\n",
              "    background-color: var(--disabled-bg-color);\n",
              "    fill: var(--disabled-fill-color);\n",
              "    box-shadow: none;\n",
              "  }\n",
              "\n",
              "  .colab-df-spinner {\n",
              "    border: 2px solid var(--fill-color);\n",
              "    border-color: transparent;\n",
              "    border-bottom-color: var(--fill-color);\n",
              "    animation:\n",
              "      spin 1s steps(1) infinite;\n",
              "  }\n",
              "\n",
              "  @keyframes spin {\n",
              "    0% {\n",
              "      border-color: transparent;\n",
              "      border-bottom-color: var(--fill-color);\n",
              "      border-left-color: var(--fill-color);\n",
              "    }\n",
              "    20% {\n",
              "      border-color: transparent;\n",
              "      border-left-color: var(--fill-color);\n",
              "      border-top-color: var(--fill-color);\n",
              "    }\n",
              "    30% {\n",
              "      border-color: transparent;\n",
              "      border-left-color: var(--fill-color);\n",
              "      border-top-color: var(--fill-color);\n",
              "      border-right-color: var(--fill-color);\n",
              "    }\n",
              "    40% {\n",
              "      border-color: transparent;\n",
              "      border-right-color: var(--fill-color);\n",
              "      border-top-color: var(--fill-color);\n",
              "    }\n",
              "    60% {\n",
              "      border-color: transparent;\n",
              "      border-right-color: var(--fill-color);\n",
              "    }\n",
              "    80% {\n",
              "      border-color: transparent;\n",
              "      border-right-color: var(--fill-color);\n",
              "      border-bottom-color: var(--fill-color);\n",
              "    }\n",
              "    90% {\n",
              "      border-color: transparent;\n",
              "      border-bottom-color: var(--fill-color);\n",
              "    }\n",
              "  }\n",
              "</style>\n",
              "\n",
              "  <script>\n",
              "    async function quickchart(key) {\n",
              "      const quickchartButtonEl =\n",
              "        document.querySelector('#' + key + ' button');\n",
              "      quickchartButtonEl.disabled = true;  // To prevent multiple clicks.\n",
              "      quickchartButtonEl.classList.add('colab-df-spinner');\n",
              "      try {\n",
              "        const charts = await google.colab.kernel.invokeFunction(\n",
              "            'suggestCharts', [key], {});\n",
              "      } catch (error) {\n",
              "        console.error('Error during call to suggestCharts:', error);\n",
              "      }\n",
              "      quickchartButtonEl.classList.remove('colab-df-spinner');\n",
              "      quickchartButtonEl.classList.add('colab-df-quickchart-complete');\n",
              "    }\n",
              "    (() => {\n",
              "      let quickchartButtonEl =\n",
              "        document.querySelector('#df-247245cf-1132-4be7-9f61-3ce81e4c7942 button');\n",
              "      quickchartButtonEl.style.display =\n",
              "        google.colab.kernel.accessAllowed ? 'block' : 'none';\n",
              "    })();\n",
              "  </script>\n",
              "</div>\n",
              "\n",
              "  <div id=\"id_f64fe7c1-6451-4945-8da1-d47cec5b3be9\">\n",
              "    <style>\n",
              "      .colab-df-generate {\n",
              "        background-color: #E8F0FE;\n",
              "        border: none;\n",
              "        border-radius: 50%;\n",
              "        cursor: pointer;\n",
              "        display: none;\n",
              "        fill: #1967D2;\n",
              "        height: 32px;\n",
              "        padding: 0 0 0 0;\n",
              "        width: 32px;\n",
              "      }\n",
              "\n",
              "      .colab-df-generate:hover {\n",
              "        background-color: #E2EBFA;\n",
              "        box-shadow: 0px 1px 2px rgba(60, 64, 67, 0.3), 0px 1px 3px 1px rgba(60, 64, 67, 0.15);\n",
              "        fill: #174EA6;\n",
              "      }\n",
              "\n",
              "      [theme=dark] .colab-df-generate {\n",
              "        background-color: #3B4455;\n",
              "        fill: #D2E3FC;\n",
              "      }\n",
              "\n",
              "      [theme=dark] .colab-df-generate:hover {\n",
              "        background-color: #434B5C;\n",
              "        box-shadow: 0px 1px 3px 1px rgba(0, 0, 0, 0.15);\n",
              "        filter: drop-shadow(0px 1px 2px rgba(0, 0, 0, 0.3));\n",
              "        fill: #FFFFFF;\n",
              "      }\n",
              "    </style>\n",
              "    <button class=\"colab-df-generate\" onclick=\"generateWithVariable('X_train')\"\n",
              "            title=\"Generate code using this dataframe.\"\n",
              "            style=\"display:none;\">\n",
              "\n",
              "  <svg xmlns=\"http://www.w3.org/2000/svg\" height=\"24px\"viewBox=\"0 0 24 24\"\n",
              "       width=\"24px\">\n",
              "    <path d=\"M7,19H8.4L18.45,9,17,7.55,7,17.6ZM5,21V16.75L18.45,3.32a2,2,0,0,1,2.83,0l1.4,1.43a1.91,1.91,0,0,1,.58,1.4,1.91,1.91,0,0,1-.58,1.4L9.25,21ZM18.45,9,17,7.55Zm-12,3A5.31,5.31,0,0,0,4.9,8.1,5.31,5.31,0,0,0,1,6.5,5.31,5.31,0,0,0,4.9,4.9,5.31,5.31,0,0,0,6.5,1,5.31,5.31,0,0,0,8.1,4.9,5.31,5.31,0,0,0,12,6.5,5.46,5.46,0,0,0,6.5,12Z\"/>\n",
              "  </svg>\n",
              "    </button>\n",
              "    <script>\n",
              "      (() => {\n",
              "      const buttonEl =\n",
              "        document.querySelector('#id_f64fe7c1-6451-4945-8da1-d47cec5b3be9 button.colab-df-generate');\n",
              "      buttonEl.style.display =\n",
              "        google.colab.kernel.accessAllowed ? 'block' : 'none';\n",
              "\n",
              "      buttonEl.onclick = () => {\n",
              "        google.colab.notebook.generateWithVariable('X_train');\n",
              "      }\n",
              "      })();\n",
              "    </script>\n",
              "  </div>\n",
              "\n",
              "    </div>\n",
              "  </div>\n"
            ],
            "application/vnd.google.colaboratory.intrinsic+json": {
              "type": "dataframe",
              "variable_name": "X_train"
            }
          },
          "metadata": {},
          "execution_count": 78
        }
      ],
      "source": [
        "X_train"
      ]
    },
    {
      "cell_type": "code",
      "execution_count": null,
      "id": "6af2a026-7b61-43c7-82f6-17d88c6cf1eb",
      "metadata": {
        "colab": {
          "base_uri": "https://localhost:8080/",
          "height": 461
        },
        "id": "6af2a026-7b61-43c7-82f6-17d88c6cf1eb",
        "outputId": "ca25fb07-f314-4efe-e95f-e42b438c917b"
      },
      "outputs": [
        {
          "output_type": "execute_result",
          "data": {
            "text/plain": [
              "        flow_duration  Header_Length  Protocol Type  Duration         Rate  \\\n",
              "4431         6.715673       228437.9            8.7     106.2    24.936944   \n",
              "3606         3.316233       478693.3            6.0      80.8   127.268208   \n",
              "28618       82.231700         2827.0            7.1      83.1  1048.006889   \n",
              "20828     1447.628173        59449.2           11.5      60.0    15.783094   \n",
              "307120       0.283950         1112.6            5.9      57.6    84.003715   \n",
              "...               ...            ...            ...       ...          ...   \n",
              "238789       0.973514        10347.4           14.2      81.0    74.124580   \n",
              "519771     267.669689        53458.5            6.0     111.7     5.011452   \n",
              "1016        14.786468       788493.3            6.0     130.8   124.406961   \n",
              "1693        40.634530       715856.2           10.4      89.1    23.972929   \n",
              "183910      66.049699         1343.4            7.1      83.1   145.731962   \n",
              "\n",
              "              Srate  Drate  fin_flag_number  syn_flag_number  rst_flag_number  \\\n",
              "4431      24.936944    0.0              0.0              0.0              0.0   \n",
              "3606     127.268208    0.0              0.0              0.0              0.0   \n",
              "28618   1048.006889    0.0              0.0              0.0              0.0   \n",
              "20828     15.783094    0.0              0.0              0.0              0.0   \n",
              "307120    84.003715    0.0              0.0              0.0              0.0   \n",
              "...             ...    ...              ...              ...              ...   \n",
              "238789    74.124580    0.0              0.0              0.0              0.0   \n",
              "519771     5.011452    0.0              0.0              0.0              0.0   \n",
              "1016     124.406961    0.0              0.0              0.0              0.0   \n",
              "1693      23.972929    0.0              0.0              0.0              0.0   \n",
              "183910   145.731962    0.0              0.0              0.0              0.0   \n",
              "\n",
              "        ...          AVG          Std  Tot size           IAT  Number  \\\n",
              "4431    ...   137.076548    76.540193     123.9  1.462541e-02     5.5   \n",
              "3606    ...  1464.220000   532.444268    1378.2  4.321694e-03     5.5   \n",
              "28618   ...   155.968779   168.710461     173.1  1.664818e+08    13.5   \n",
              "20828   ...    73.087856    42.305917      86.2  1.664820e+08    13.5   \n",
              "307120  ...   178.469841   283.023937     234.8  5.280399e-03     5.5   \n",
              "...     ...          ...          ...       ...           ...     ...   \n",
              "238789  ...   191.079127   113.175259     151.8  2.800970e-02     5.5   \n",
              "519771  ...   130.521574    97.380614     211.3  1.664818e+08    13.5   \n",
              "1016    ...  1232.501905  1020.047124    1079.6  1.030111e-03     5.5   \n",
              "1693    ...   231.291151   244.145562     459.5  1.429210e-02     5.5   \n",
              "183910  ...   201.221212   360.940542      95.4  1.664818e+08    13.5   \n",
              "\n",
              "         Magnitue       Radius    Covariance  Variance  Weight  \n",
              "4431    16.509130   108.244179  8.206513e+03       0.9    38.5  \n",
              "3606    54.071956   752.989905  4.105199e+05       0.7    38.5  \n",
              "28618   17.580976   238.281994  2.853816e+04       1.0   244.6  \n",
              "20828   12.084603    60.013748  2.301020e+03       1.0   244.6  \n",
              "307120  17.921102   400.256290  1.560313e+05       0.9    38.5  \n",
              "...           ...          ...           ...       ...     ...  \n",
              "238789  19.403169   160.053986  1.425714e+04       0.9    38.5  \n",
              "519771  16.065272   136.625200  9.562259e+03       1.0   244.6  \n",
              "1016    49.080769  1442.564478  1.177101e+06       0.9    38.5  \n",
              "1693    20.017172   345.273965  1.282149e+05       0.9    38.5  \n",
              "183910  20.063437   511.492750  1.316187e+05       1.0   244.6  \n",
              "\n",
              "[3194 rows x 46 columns]"
            ],
            "text/html": [
              "\n",
              "  <div id=\"df-2a54710a-eb1a-412f-b562-81400df8ca49\" class=\"colab-df-container\">\n",
              "    <div>\n",
              "<style scoped>\n",
              "    .dataframe tbody tr th:only-of-type {\n",
              "        vertical-align: middle;\n",
              "    }\n",
              "\n",
              "    .dataframe tbody tr th {\n",
              "        vertical-align: top;\n",
              "    }\n",
              "\n",
              "    .dataframe thead th {\n",
              "        text-align: right;\n",
              "    }\n",
              "</style>\n",
              "<table border=\"1\" class=\"dataframe\">\n",
              "  <thead>\n",
              "    <tr style=\"text-align: right;\">\n",
              "      <th></th>\n",
              "      <th>flow_duration</th>\n",
              "      <th>Header_Length</th>\n",
              "      <th>Protocol Type</th>\n",
              "      <th>Duration</th>\n",
              "      <th>Rate</th>\n",
              "      <th>Srate</th>\n",
              "      <th>Drate</th>\n",
              "      <th>fin_flag_number</th>\n",
              "      <th>syn_flag_number</th>\n",
              "      <th>rst_flag_number</th>\n",
              "      <th>...</th>\n",
              "      <th>AVG</th>\n",
              "      <th>Std</th>\n",
              "      <th>Tot size</th>\n",
              "      <th>IAT</th>\n",
              "      <th>Number</th>\n",
              "      <th>Magnitue</th>\n",
              "      <th>Radius</th>\n",
              "      <th>Covariance</th>\n",
              "      <th>Variance</th>\n",
              "      <th>Weight</th>\n",
              "    </tr>\n",
              "  </thead>\n",
              "  <tbody>\n",
              "    <tr>\n",
              "      <th>4431</th>\n",
              "      <td>6.715673</td>\n",
              "      <td>228437.9</td>\n",
              "      <td>8.7</td>\n",
              "      <td>106.2</td>\n",
              "      <td>24.936944</td>\n",
              "      <td>24.936944</td>\n",
              "      <td>0.0</td>\n",
              "      <td>0.0</td>\n",
              "      <td>0.0</td>\n",
              "      <td>0.0</td>\n",
              "      <td>...</td>\n",
              "      <td>137.076548</td>\n",
              "      <td>76.540193</td>\n",
              "      <td>123.9</td>\n",
              "      <td>1.462541e-02</td>\n",
              "      <td>5.5</td>\n",
              "      <td>16.509130</td>\n",
              "      <td>108.244179</td>\n",
              "      <td>8.206513e+03</td>\n",
              "      <td>0.9</td>\n",
              "      <td>38.5</td>\n",
              "    </tr>\n",
              "    <tr>\n",
              "      <th>3606</th>\n",
              "      <td>3.316233</td>\n",
              "      <td>478693.3</td>\n",
              "      <td>6.0</td>\n",
              "      <td>80.8</td>\n",
              "      <td>127.268208</td>\n",
              "      <td>127.268208</td>\n",
              "      <td>0.0</td>\n",
              "      <td>0.0</td>\n",
              "      <td>0.0</td>\n",
              "      <td>0.0</td>\n",
              "      <td>...</td>\n",
              "      <td>1464.220000</td>\n",
              "      <td>532.444268</td>\n",
              "      <td>1378.2</td>\n",
              "      <td>4.321694e-03</td>\n",
              "      <td>5.5</td>\n",
              "      <td>54.071956</td>\n",
              "      <td>752.989905</td>\n",
              "      <td>4.105199e+05</td>\n",
              "      <td>0.7</td>\n",
              "      <td>38.5</td>\n",
              "    </tr>\n",
              "    <tr>\n",
              "      <th>28618</th>\n",
              "      <td>82.231700</td>\n",
              "      <td>2827.0</td>\n",
              "      <td>7.1</td>\n",
              "      <td>83.1</td>\n",
              "      <td>1048.006889</td>\n",
              "      <td>1048.006889</td>\n",
              "      <td>0.0</td>\n",
              "      <td>0.0</td>\n",
              "      <td>0.0</td>\n",
              "      <td>0.0</td>\n",
              "      <td>...</td>\n",
              "      <td>155.968779</td>\n",
              "      <td>168.710461</td>\n",
              "      <td>173.1</td>\n",
              "      <td>1.664818e+08</td>\n",
              "      <td>13.5</td>\n",
              "      <td>17.580976</td>\n",
              "      <td>238.281994</td>\n",
              "      <td>2.853816e+04</td>\n",
              "      <td>1.0</td>\n",
              "      <td>244.6</td>\n",
              "    </tr>\n",
              "    <tr>\n",
              "      <th>20828</th>\n",
              "      <td>1447.628173</td>\n",
              "      <td>59449.2</td>\n",
              "      <td>11.5</td>\n",
              "      <td>60.0</td>\n",
              "      <td>15.783094</td>\n",
              "      <td>15.783094</td>\n",
              "      <td>0.0</td>\n",
              "      <td>0.0</td>\n",
              "      <td>0.0</td>\n",
              "      <td>0.0</td>\n",
              "      <td>...</td>\n",
              "      <td>73.087856</td>\n",
              "      <td>42.305917</td>\n",
              "      <td>86.2</td>\n",
              "      <td>1.664820e+08</td>\n",
              "      <td>13.5</td>\n",
              "      <td>12.084603</td>\n",
              "      <td>60.013748</td>\n",
              "      <td>2.301020e+03</td>\n",
              "      <td>1.0</td>\n",
              "      <td>244.6</td>\n",
              "    </tr>\n",
              "    <tr>\n",
              "      <th>307120</th>\n",
              "      <td>0.283950</td>\n",
              "      <td>1112.6</td>\n",
              "      <td>5.9</td>\n",
              "      <td>57.6</td>\n",
              "      <td>84.003715</td>\n",
              "      <td>84.003715</td>\n",
              "      <td>0.0</td>\n",
              "      <td>0.0</td>\n",
              "      <td>0.0</td>\n",
              "      <td>0.0</td>\n",
              "      <td>...</td>\n",
              "      <td>178.469841</td>\n",
              "      <td>283.023937</td>\n",
              "      <td>234.8</td>\n",
              "      <td>5.280399e-03</td>\n",
              "      <td>5.5</td>\n",
              "      <td>17.921102</td>\n",
              "      <td>400.256290</td>\n",
              "      <td>1.560313e+05</td>\n",
              "      <td>0.9</td>\n",
              "      <td>38.5</td>\n",
              "    </tr>\n",
              "    <tr>\n",
              "      <th>...</th>\n",
              "      <td>...</td>\n",
              "      <td>...</td>\n",
              "      <td>...</td>\n",
              "      <td>...</td>\n",
              "      <td>...</td>\n",
              "      <td>...</td>\n",
              "      <td>...</td>\n",
              "      <td>...</td>\n",
              "      <td>...</td>\n",
              "      <td>...</td>\n",
              "      <td>...</td>\n",
              "      <td>...</td>\n",
              "      <td>...</td>\n",
              "      <td>...</td>\n",
              "      <td>...</td>\n",
              "      <td>...</td>\n",
              "      <td>...</td>\n",
              "      <td>...</td>\n",
              "      <td>...</td>\n",
              "      <td>...</td>\n",
              "      <td>...</td>\n",
              "    </tr>\n",
              "    <tr>\n",
              "      <th>238789</th>\n",
              "      <td>0.973514</td>\n",
              "      <td>10347.4</td>\n",
              "      <td>14.2</td>\n",
              "      <td>81.0</td>\n",
              "      <td>74.124580</td>\n",
              "      <td>74.124580</td>\n",
              "      <td>0.0</td>\n",
              "      <td>0.0</td>\n",
              "      <td>0.0</td>\n",
              "      <td>0.0</td>\n",
              "      <td>...</td>\n",
              "      <td>191.079127</td>\n",
              "      <td>113.175259</td>\n",
              "      <td>151.8</td>\n",
              "      <td>2.800970e-02</td>\n",
              "      <td>5.5</td>\n",
              "      <td>19.403169</td>\n",
              "      <td>160.053986</td>\n",
              "      <td>1.425714e+04</td>\n",
              "      <td>0.9</td>\n",
              "      <td>38.5</td>\n",
              "    </tr>\n",
              "    <tr>\n",
              "      <th>519771</th>\n",
              "      <td>267.669689</td>\n",
              "      <td>53458.5</td>\n",
              "      <td>6.0</td>\n",
              "      <td>111.7</td>\n",
              "      <td>5.011452</td>\n",
              "      <td>5.011452</td>\n",
              "      <td>0.0</td>\n",
              "      <td>0.0</td>\n",
              "      <td>0.0</td>\n",
              "      <td>0.0</td>\n",
              "      <td>...</td>\n",
              "      <td>130.521574</td>\n",
              "      <td>97.380614</td>\n",
              "      <td>211.3</td>\n",
              "      <td>1.664818e+08</td>\n",
              "      <td>13.5</td>\n",
              "      <td>16.065272</td>\n",
              "      <td>136.625200</td>\n",
              "      <td>9.562259e+03</td>\n",
              "      <td>1.0</td>\n",
              "      <td>244.6</td>\n",
              "    </tr>\n",
              "    <tr>\n",
              "      <th>1016</th>\n",
              "      <td>14.786468</td>\n",
              "      <td>788493.3</td>\n",
              "      <td>6.0</td>\n",
              "      <td>130.8</td>\n",
              "      <td>124.406961</td>\n",
              "      <td>124.406961</td>\n",
              "      <td>0.0</td>\n",
              "      <td>0.0</td>\n",
              "      <td>0.0</td>\n",
              "      <td>0.0</td>\n",
              "      <td>...</td>\n",
              "      <td>1232.501905</td>\n",
              "      <td>1020.047124</td>\n",
              "      <td>1079.6</td>\n",
              "      <td>1.030111e-03</td>\n",
              "      <td>5.5</td>\n",
              "      <td>49.080769</td>\n",
              "      <td>1442.564478</td>\n",
              "      <td>1.177101e+06</td>\n",
              "      <td>0.9</td>\n",
              "      <td>38.5</td>\n",
              "    </tr>\n",
              "    <tr>\n",
              "      <th>1693</th>\n",
              "      <td>40.634530</td>\n",
              "      <td>715856.2</td>\n",
              "      <td>10.4</td>\n",
              "      <td>89.1</td>\n",
              "      <td>23.972929</td>\n",
              "      <td>23.972929</td>\n",
              "      <td>0.0</td>\n",
              "      <td>0.0</td>\n",
              "      <td>0.0</td>\n",
              "      <td>0.0</td>\n",
              "      <td>...</td>\n",
              "      <td>231.291151</td>\n",
              "      <td>244.145562</td>\n",
              "      <td>459.5</td>\n",
              "      <td>1.429210e-02</td>\n",
              "      <td>5.5</td>\n",
              "      <td>20.017172</td>\n",
              "      <td>345.273965</td>\n",
              "      <td>1.282149e+05</td>\n",
              "      <td>0.9</td>\n",
              "      <td>38.5</td>\n",
              "    </tr>\n",
              "    <tr>\n",
              "      <th>183910</th>\n",
              "      <td>66.049699</td>\n",
              "      <td>1343.4</td>\n",
              "      <td>7.1</td>\n",
              "      <td>83.1</td>\n",
              "      <td>145.731962</td>\n",
              "      <td>145.731962</td>\n",
              "      <td>0.0</td>\n",
              "      <td>0.0</td>\n",
              "      <td>0.0</td>\n",
              "      <td>0.0</td>\n",
              "      <td>...</td>\n",
              "      <td>201.221212</td>\n",
              "      <td>360.940542</td>\n",
              "      <td>95.4</td>\n",
              "      <td>1.664818e+08</td>\n",
              "      <td>13.5</td>\n",
              "      <td>20.063437</td>\n",
              "      <td>511.492750</td>\n",
              "      <td>1.316187e+05</td>\n",
              "      <td>1.0</td>\n",
              "      <td>244.6</td>\n",
              "    </tr>\n",
              "  </tbody>\n",
              "</table>\n",
              "<p>3194 rows × 46 columns</p>\n",
              "</div>\n",
              "    <div class=\"colab-df-buttons\">\n",
              "\n",
              "  <div class=\"colab-df-container\">\n",
              "    <button class=\"colab-df-convert\" onclick=\"convertToInteractive('df-2a54710a-eb1a-412f-b562-81400df8ca49')\"\n",
              "            title=\"Convert this dataframe to an interactive table.\"\n",
              "            style=\"display:none;\">\n",
              "\n",
              "  <svg xmlns=\"http://www.w3.org/2000/svg\" height=\"24px\" viewBox=\"0 -960 960 960\">\n",
              "    <path d=\"M120-120v-720h720v720H120Zm60-500h600v-160H180v160Zm220 220h160v-160H400v160Zm0 220h160v-160H400v160ZM180-400h160v-160H180v160Zm440 0h160v-160H620v160ZM180-180h160v-160H180v160Zm440 0h160v-160H620v160Z\"/>\n",
              "  </svg>\n",
              "    </button>\n",
              "\n",
              "  <style>\n",
              "    .colab-df-container {\n",
              "      display:flex;\n",
              "      gap: 12px;\n",
              "    }\n",
              "\n",
              "    .colab-df-convert {\n",
              "      background-color: #E8F0FE;\n",
              "      border: none;\n",
              "      border-radius: 50%;\n",
              "      cursor: pointer;\n",
              "      display: none;\n",
              "      fill: #1967D2;\n",
              "      height: 32px;\n",
              "      padding: 0 0 0 0;\n",
              "      width: 32px;\n",
              "    }\n",
              "\n",
              "    .colab-df-convert:hover {\n",
              "      background-color: #E2EBFA;\n",
              "      box-shadow: 0px 1px 2px rgba(60, 64, 67, 0.3), 0px 1px 3px 1px rgba(60, 64, 67, 0.15);\n",
              "      fill: #174EA6;\n",
              "    }\n",
              "\n",
              "    .colab-df-buttons div {\n",
              "      margin-bottom: 4px;\n",
              "    }\n",
              "\n",
              "    [theme=dark] .colab-df-convert {\n",
              "      background-color: #3B4455;\n",
              "      fill: #D2E3FC;\n",
              "    }\n",
              "\n",
              "    [theme=dark] .colab-df-convert:hover {\n",
              "      background-color: #434B5C;\n",
              "      box-shadow: 0px 1px 3px 1px rgba(0, 0, 0, 0.15);\n",
              "      filter: drop-shadow(0px 1px 2px rgba(0, 0, 0, 0.3));\n",
              "      fill: #FFFFFF;\n",
              "    }\n",
              "  </style>\n",
              "\n",
              "    <script>\n",
              "      const buttonEl =\n",
              "        document.querySelector('#df-2a54710a-eb1a-412f-b562-81400df8ca49 button.colab-df-convert');\n",
              "      buttonEl.style.display =\n",
              "        google.colab.kernel.accessAllowed ? 'block' : 'none';\n",
              "\n",
              "      async function convertToInteractive(key) {\n",
              "        const element = document.querySelector('#df-2a54710a-eb1a-412f-b562-81400df8ca49');\n",
              "        const dataTable =\n",
              "          await google.colab.kernel.invokeFunction('convertToInteractive',\n",
              "                                                    [key], {});\n",
              "        if (!dataTable) return;\n",
              "\n",
              "        const docLinkHtml = 'Like what you see? Visit the ' +\n",
              "          '<a target=\"_blank\" href=https://colab.research.google.com/notebooks/data_table.ipynb>data table notebook</a>'\n",
              "          + ' to learn more about interactive tables.';\n",
              "        element.innerHTML = '';\n",
              "        dataTable['output_type'] = 'display_data';\n",
              "        await google.colab.output.renderOutput(dataTable, element);\n",
              "        const docLink = document.createElement('div');\n",
              "        docLink.innerHTML = docLinkHtml;\n",
              "        element.appendChild(docLink);\n",
              "      }\n",
              "    </script>\n",
              "  </div>\n",
              "\n",
              "\n",
              "<div id=\"df-2aa8d32b-7f52-45cf-93fb-b01ac99c697a\">\n",
              "  <button class=\"colab-df-quickchart\" onclick=\"quickchart('df-2aa8d32b-7f52-45cf-93fb-b01ac99c697a')\"\n",
              "            title=\"Suggest charts\"\n",
              "            style=\"display:none;\">\n",
              "\n",
              "<svg xmlns=\"http://www.w3.org/2000/svg\" height=\"24px\"viewBox=\"0 0 24 24\"\n",
              "     width=\"24px\">\n",
              "    <g>\n",
              "        <path d=\"M19 3H5c-1.1 0-2 .9-2 2v14c0 1.1.9 2 2 2h14c1.1 0 2-.9 2-2V5c0-1.1-.9-2-2-2zM9 17H7v-7h2v7zm4 0h-2V7h2v10zm4 0h-2v-4h2v4z\"/>\n",
              "    </g>\n",
              "</svg>\n",
              "  </button>\n",
              "\n",
              "<style>\n",
              "  .colab-df-quickchart {\n",
              "      --bg-color: #E8F0FE;\n",
              "      --fill-color: #1967D2;\n",
              "      --hover-bg-color: #E2EBFA;\n",
              "      --hover-fill-color: #174EA6;\n",
              "      --disabled-fill-color: #AAA;\n",
              "      --disabled-bg-color: #DDD;\n",
              "  }\n",
              "\n",
              "  [theme=dark] .colab-df-quickchart {\n",
              "      --bg-color: #3B4455;\n",
              "      --fill-color: #D2E3FC;\n",
              "      --hover-bg-color: #434B5C;\n",
              "      --hover-fill-color: #FFFFFF;\n",
              "      --disabled-bg-color: #3B4455;\n",
              "      --disabled-fill-color: #666;\n",
              "  }\n",
              "\n",
              "  .colab-df-quickchart {\n",
              "    background-color: var(--bg-color);\n",
              "    border: none;\n",
              "    border-radius: 50%;\n",
              "    cursor: pointer;\n",
              "    display: none;\n",
              "    fill: var(--fill-color);\n",
              "    height: 32px;\n",
              "    padding: 0;\n",
              "    width: 32px;\n",
              "  }\n",
              "\n",
              "  .colab-df-quickchart:hover {\n",
              "    background-color: var(--hover-bg-color);\n",
              "    box-shadow: 0 1px 2px rgba(60, 64, 67, 0.3), 0 1px 3px 1px rgba(60, 64, 67, 0.15);\n",
              "    fill: var(--button-hover-fill-color);\n",
              "  }\n",
              "\n",
              "  .colab-df-quickchart-complete:disabled,\n",
              "  .colab-df-quickchart-complete:disabled:hover {\n",
              "    background-color: var(--disabled-bg-color);\n",
              "    fill: var(--disabled-fill-color);\n",
              "    box-shadow: none;\n",
              "  }\n",
              "\n",
              "  .colab-df-spinner {\n",
              "    border: 2px solid var(--fill-color);\n",
              "    border-color: transparent;\n",
              "    border-bottom-color: var(--fill-color);\n",
              "    animation:\n",
              "      spin 1s steps(1) infinite;\n",
              "  }\n",
              "\n",
              "  @keyframes spin {\n",
              "    0% {\n",
              "      border-color: transparent;\n",
              "      border-bottom-color: var(--fill-color);\n",
              "      border-left-color: var(--fill-color);\n",
              "    }\n",
              "    20% {\n",
              "      border-color: transparent;\n",
              "      border-left-color: var(--fill-color);\n",
              "      border-top-color: var(--fill-color);\n",
              "    }\n",
              "    30% {\n",
              "      border-color: transparent;\n",
              "      border-left-color: var(--fill-color);\n",
              "      border-top-color: var(--fill-color);\n",
              "      border-right-color: var(--fill-color);\n",
              "    }\n",
              "    40% {\n",
              "      border-color: transparent;\n",
              "      border-right-color: var(--fill-color);\n",
              "      border-top-color: var(--fill-color);\n",
              "    }\n",
              "    60% {\n",
              "      border-color: transparent;\n",
              "      border-right-color: var(--fill-color);\n",
              "    }\n",
              "    80% {\n",
              "      border-color: transparent;\n",
              "      border-right-color: var(--fill-color);\n",
              "      border-bottom-color: var(--fill-color);\n",
              "    }\n",
              "    90% {\n",
              "      border-color: transparent;\n",
              "      border-bottom-color: var(--fill-color);\n",
              "    }\n",
              "  }\n",
              "</style>\n",
              "\n",
              "  <script>\n",
              "    async function quickchart(key) {\n",
              "      const quickchartButtonEl =\n",
              "        document.querySelector('#' + key + ' button');\n",
              "      quickchartButtonEl.disabled = true;  // To prevent multiple clicks.\n",
              "      quickchartButtonEl.classList.add('colab-df-spinner');\n",
              "      try {\n",
              "        const charts = await google.colab.kernel.invokeFunction(\n",
              "            'suggestCharts', [key], {});\n",
              "      } catch (error) {\n",
              "        console.error('Error during call to suggestCharts:', error);\n",
              "      }\n",
              "      quickchartButtonEl.classList.remove('colab-df-spinner');\n",
              "      quickchartButtonEl.classList.add('colab-df-quickchart-complete');\n",
              "    }\n",
              "    (() => {\n",
              "      let quickchartButtonEl =\n",
              "        document.querySelector('#df-2aa8d32b-7f52-45cf-93fb-b01ac99c697a button');\n",
              "      quickchartButtonEl.style.display =\n",
              "        google.colab.kernel.accessAllowed ? 'block' : 'none';\n",
              "    })();\n",
              "  </script>\n",
              "</div>\n",
              "\n",
              "  <div id=\"id_7f26d79c-d426-4d26-9a17-90e9b30b33a3\">\n",
              "    <style>\n",
              "      .colab-df-generate {\n",
              "        background-color: #E8F0FE;\n",
              "        border: none;\n",
              "        border-radius: 50%;\n",
              "        cursor: pointer;\n",
              "        display: none;\n",
              "        fill: #1967D2;\n",
              "        height: 32px;\n",
              "        padding: 0 0 0 0;\n",
              "        width: 32px;\n",
              "      }\n",
              "\n",
              "      .colab-df-generate:hover {\n",
              "        background-color: #E2EBFA;\n",
              "        box-shadow: 0px 1px 2px rgba(60, 64, 67, 0.3), 0px 1px 3px 1px rgba(60, 64, 67, 0.15);\n",
              "        fill: #174EA6;\n",
              "      }\n",
              "\n",
              "      [theme=dark] .colab-df-generate {\n",
              "        background-color: #3B4455;\n",
              "        fill: #D2E3FC;\n",
              "      }\n",
              "\n",
              "      [theme=dark] .colab-df-generate:hover {\n",
              "        background-color: #434B5C;\n",
              "        box-shadow: 0px 1px 3px 1px rgba(0, 0, 0, 0.15);\n",
              "        filter: drop-shadow(0px 1px 2px rgba(0, 0, 0, 0.3));\n",
              "        fill: #FFFFFF;\n",
              "      }\n",
              "    </style>\n",
              "    <button class=\"colab-df-generate\" onclick=\"generateWithVariable('X_test')\"\n",
              "            title=\"Generate code using this dataframe.\"\n",
              "            style=\"display:none;\">\n",
              "\n",
              "  <svg xmlns=\"http://www.w3.org/2000/svg\" height=\"24px\"viewBox=\"0 0 24 24\"\n",
              "       width=\"24px\">\n",
              "    <path d=\"M7,19H8.4L18.45,9,17,7.55,7,17.6ZM5,21V16.75L18.45,3.32a2,2,0,0,1,2.83,0l1.4,1.43a1.91,1.91,0,0,1,.58,1.4,1.91,1.91,0,0,1-.58,1.4L9.25,21ZM18.45,9,17,7.55Zm-12,3A5.31,5.31,0,0,0,4.9,8.1,5.31,5.31,0,0,0,1,6.5,5.31,5.31,0,0,0,4.9,4.9,5.31,5.31,0,0,0,6.5,1,5.31,5.31,0,0,0,8.1,4.9,5.31,5.31,0,0,0,12,6.5,5.46,5.46,0,0,0,6.5,12Z\"/>\n",
              "  </svg>\n",
              "    </button>\n",
              "    <script>\n",
              "      (() => {\n",
              "      const buttonEl =\n",
              "        document.querySelector('#id_7f26d79c-d426-4d26-9a17-90e9b30b33a3 button.colab-df-generate');\n",
              "      buttonEl.style.display =\n",
              "        google.colab.kernel.accessAllowed ? 'block' : 'none';\n",
              "\n",
              "      buttonEl.onclick = () => {\n",
              "        google.colab.notebook.generateWithVariable('X_test');\n",
              "      }\n",
              "      })();\n",
              "    </script>\n",
              "  </div>\n",
              "\n",
              "    </div>\n",
              "  </div>\n"
            ],
            "application/vnd.google.colaboratory.intrinsic+json": {
              "type": "dataframe",
              "variable_name": "X_test"
            }
          },
          "metadata": {},
          "execution_count": 79
        }
      ],
      "source": [
        "X_test"
      ]
    },
    {
      "cell_type": "markdown",
      "id": "900496d8-4266-4368-9a0c-1998b1fefded",
      "metadata": {
        "id": "900496d8-4266-4368-9a0c-1998b1fefded"
      },
      "source": [
        "### KNN"
      ]
    },
    {
      "cell_type": "code",
      "execution_count": null,
      "id": "c083f763-f943-4c2e-8004-5a2979d57239",
      "metadata": {
        "id": "c083f763-f943-4c2e-8004-5a2979d57239"
      },
      "outputs": [],
      "source": [
        "from sklearn.neighbors import KNeighborsClassifier"
      ]
    },
    {
      "cell_type": "code",
      "execution_count": null,
      "id": "87edff35-1e16-4aa9-89f8-9e62c3e67957",
      "metadata": {
        "id": "87edff35-1e16-4aa9-89f8-9e62c3e67957"
      },
      "outputs": [],
      "source": [
        "knn=KNeighborsClassifier()"
      ]
    },
    {
      "cell_type": "code",
      "execution_count": null,
      "id": "827b3e69-1a63-456b-99f3-1cdfbce8bf85",
      "metadata": {
        "colab": {
          "base_uri": "https://localhost:8080/",
          "height": 74
        },
        "id": "827b3e69-1a63-456b-99f3-1cdfbce8bf85",
        "outputId": "5a91a67f-b612-448f-bc01-5295197ff3dd"
      },
      "outputs": [
        {
          "output_type": "execute_result",
          "data": {
            "text/plain": [
              "KNeighborsClassifier()"
            ],
            "text/html": [
              "<style>#sk-container-id-8 {color: black;}#sk-container-id-8 pre{padding: 0;}#sk-container-id-8 div.sk-toggleable {background-color: white;}#sk-container-id-8 label.sk-toggleable__label {cursor: pointer;display: block;width: 100%;margin-bottom: 0;padding: 0.3em;box-sizing: border-box;text-align: center;}#sk-container-id-8 label.sk-toggleable__label-arrow:before {content: \"▸\";float: left;margin-right: 0.25em;color: #696969;}#sk-container-id-8 label.sk-toggleable__label-arrow:hover:before {color: black;}#sk-container-id-8 div.sk-estimator:hover label.sk-toggleable__label-arrow:before {color: black;}#sk-container-id-8 div.sk-toggleable__content {max-height: 0;max-width: 0;overflow: hidden;text-align: left;background-color: #f0f8ff;}#sk-container-id-8 div.sk-toggleable__content pre {margin: 0.2em;color: black;border-radius: 0.25em;background-color: #f0f8ff;}#sk-container-id-8 input.sk-toggleable__control:checked~div.sk-toggleable__content {max-height: 200px;max-width: 100%;overflow: auto;}#sk-container-id-8 input.sk-toggleable__control:checked~label.sk-toggleable__label-arrow:before {content: \"▾\";}#sk-container-id-8 div.sk-estimator input.sk-toggleable__control:checked~label.sk-toggleable__label {background-color: #d4ebff;}#sk-container-id-8 div.sk-label input.sk-toggleable__control:checked~label.sk-toggleable__label {background-color: #d4ebff;}#sk-container-id-8 input.sk-hidden--visually {border: 0;clip: rect(1px 1px 1px 1px);clip: rect(1px, 1px, 1px, 1px);height: 1px;margin: -1px;overflow: hidden;padding: 0;position: absolute;width: 1px;}#sk-container-id-8 div.sk-estimator {font-family: monospace;background-color: #f0f8ff;border: 1px dotted black;border-radius: 0.25em;box-sizing: border-box;margin-bottom: 0.5em;}#sk-container-id-8 div.sk-estimator:hover {background-color: #d4ebff;}#sk-container-id-8 div.sk-parallel-item::after {content: \"\";width: 100%;border-bottom: 1px solid gray;flex-grow: 1;}#sk-container-id-8 div.sk-label:hover label.sk-toggleable__label {background-color: #d4ebff;}#sk-container-id-8 div.sk-serial::before {content: \"\";position: absolute;border-left: 1px solid gray;box-sizing: border-box;top: 0;bottom: 0;left: 50%;z-index: 0;}#sk-container-id-8 div.sk-serial {display: flex;flex-direction: column;align-items: center;background-color: white;padding-right: 0.2em;padding-left: 0.2em;position: relative;}#sk-container-id-8 div.sk-item {position: relative;z-index: 1;}#sk-container-id-8 div.sk-parallel {display: flex;align-items: stretch;justify-content: center;background-color: white;position: relative;}#sk-container-id-8 div.sk-item::before, #sk-container-id-8 div.sk-parallel-item::before {content: \"\";position: absolute;border-left: 1px solid gray;box-sizing: border-box;top: 0;bottom: 0;left: 50%;z-index: -1;}#sk-container-id-8 div.sk-parallel-item {display: flex;flex-direction: column;z-index: 1;position: relative;background-color: white;}#sk-container-id-8 div.sk-parallel-item:first-child::after {align-self: flex-end;width: 50%;}#sk-container-id-8 div.sk-parallel-item:last-child::after {align-self: flex-start;width: 50%;}#sk-container-id-8 div.sk-parallel-item:only-child::after {width: 0;}#sk-container-id-8 div.sk-dashed-wrapped {border: 1px dashed gray;margin: 0 0.4em 0.5em 0.4em;box-sizing: border-box;padding-bottom: 0.4em;background-color: white;}#sk-container-id-8 div.sk-label label {font-family: monospace;font-weight: bold;display: inline-block;line-height: 1.2em;}#sk-container-id-8 div.sk-label-container {text-align: center;}#sk-container-id-8 div.sk-container {/* jupyter's `normalize.less` sets `[hidden] { display: none; }` but bootstrap.min.css set `[hidden] { display: none !important; }` so we also need the `!important` here to be able to override the default hidden behavior on the sphinx rendered scikit-learn.org. See: https://github.com/scikit-learn/scikit-learn/issues/21755 */display: inline-block !important;position: relative;}#sk-container-id-8 div.sk-text-repr-fallback {display: none;}</style><div id=\"sk-container-id-8\" class=\"sk-top-container\"><div class=\"sk-text-repr-fallback\"><pre>KNeighborsClassifier()</pre><b>In a Jupyter environment, please rerun this cell to show the HTML representation or trust the notebook. <br />On GitHub, the HTML representation is unable to render, please try loading this page with nbviewer.org.</b></div><div class=\"sk-container\" hidden><div class=\"sk-item\"><div class=\"sk-estimator sk-toggleable\"><input class=\"sk-toggleable__control sk-hidden--visually\" id=\"sk-estimator-id-8\" type=\"checkbox\" checked><label for=\"sk-estimator-id-8\" class=\"sk-toggleable__label sk-toggleable__label-arrow\">KNeighborsClassifier</label><div class=\"sk-toggleable__content\"><pre>KNeighborsClassifier()</pre></div></div></div></div></div>"
            ]
          },
          "metadata": {},
          "execution_count": 82
        }
      ],
      "source": [
        "knn.fit(X_train,y_train)"
      ]
    },
    {
      "cell_type": "code",
      "execution_count": null,
      "id": "b62b7ff8-0250-4bfa-90f9-0731a10f9159",
      "metadata": {
        "id": "b62b7ff8-0250-4bfa-90f9-0731a10f9159"
      },
      "outputs": [],
      "source": [
        "from sklearn.metrics import classification_report"
      ]
    },
    {
      "cell_type": "code",
      "execution_count": null,
      "id": "c47bcf8a-fc87-40bb-8392-5dc542afa547",
      "metadata": {
        "id": "c47bcf8a-fc87-40bb-8392-5dc542afa547"
      },
      "outputs": [],
      "source": [
        "y_pred=knn.predict(X_test)"
      ]
    },
    {
      "cell_type": "code",
      "execution_count": null,
      "id": "64503255-aeeb-4235-8e07-53b83df1f54b",
      "metadata": {
        "colab": {
          "base_uri": "https://localhost:8080/"
        },
        "id": "64503255-aeeb-4235-8e07-53b83df1f54b",
        "outputId": "7af3e22b-4323-42ee-be6c-6ba4e173bcde"
      },
      "outputs": [
        {
          "output_type": "stream",
          "name": "stdout",
          "text": [
            "              precision    recall  f1-score   support\n",
            "\n",
            "           1       0.90      0.93      0.92      1549\n",
            "           2       0.93      0.91      0.92      1645\n",
            "\n",
            "    accuracy                           0.92      3194\n",
            "   macro avg       0.92      0.92      0.92      3194\n",
            "weighted avg       0.92      0.92      0.92      3194\n",
            "\n"
          ]
        }
      ],
      "source": [
        "print(classification_report(y_pred,y_test))"
      ]
    },
    {
      "cell_type": "markdown",
      "id": "802e3ed6-e89f-4fcc-bebe-de058b56f4a1",
      "metadata": {
        "id": "802e3ed6-e89f-4fcc-bebe-de058b56f4a1"
      },
      "source": [
        "### DecisionTrees"
      ]
    },
    {
      "cell_type": "code",
      "execution_count": null,
      "id": "3238a4ec-1e17-4f9f-b016-e36de6f85f8f",
      "metadata": {
        "id": "3238a4ec-1e17-4f9f-b016-e36de6f85f8f"
      },
      "outputs": [],
      "source": [
        "from sklearn.tree import DecisionTreeClassifier"
      ]
    },
    {
      "cell_type": "code",
      "execution_count": null,
      "id": "232608a0-98be-4f39-a043-cf5c3e1893f0",
      "metadata": {
        "id": "232608a0-98be-4f39-a043-cf5c3e1893f0"
      },
      "outputs": [],
      "source": [
        "dtree=DecisionTreeClassifier()"
      ]
    },
    {
      "cell_type": "code",
      "execution_count": null,
      "id": "d7fd1fa7-469c-4d68-803b-5f696e4362fb",
      "metadata": {
        "colab": {
          "base_uri": "https://localhost:8080/",
          "height": 74
        },
        "id": "d7fd1fa7-469c-4d68-803b-5f696e4362fb",
        "outputId": "029906a1-f3bd-4065-d83c-37a600ebb907"
      },
      "outputs": [
        {
          "output_type": "execute_result",
          "data": {
            "text/plain": [
              "DecisionTreeClassifier()"
            ],
            "text/html": [
              "<style>#sk-container-id-9 {color: black;}#sk-container-id-9 pre{padding: 0;}#sk-container-id-9 div.sk-toggleable {background-color: white;}#sk-container-id-9 label.sk-toggleable__label {cursor: pointer;display: block;width: 100%;margin-bottom: 0;padding: 0.3em;box-sizing: border-box;text-align: center;}#sk-container-id-9 label.sk-toggleable__label-arrow:before {content: \"▸\";float: left;margin-right: 0.25em;color: #696969;}#sk-container-id-9 label.sk-toggleable__label-arrow:hover:before {color: black;}#sk-container-id-9 div.sk-estimator:hover label.sk-toggleable__label-arrow:before {color: black;}#sk-container-id-9 div.sk-toggleable__content {max-height: 0;max-width: 0;overflow: hidden;text-align: left;background-color: #f0f8ff;}#sk-container-id-9 div.sk-toggleable__content pre {margin: 0.2em;color: black;border-radius: 0.25em;background-color: #f0f8ff;}#sk-container-id-9 input.sk-toggleable__control:checked~div.sk-toggleable__content {max-height: 200px;max-width: 100%;overflow: auto;}#sk-container-id-9 input.sk-toggleable__control:checked~label.sk-toggleable__label-arrow:before {content: \"▾\";}#sk-container-id-9 div.sk-estimator input.sk-toggleable__control:checked~label.sk-toggleable__label {background-color: #d4ebff;}#sk-container-id-9 div.sk-label input.sk-toggleable__control:checked~label.sk-toggleable__label {background-color: #d4ebff;}#sk-container-id-9 input.sk-hidden--visually {border: 0;clip: rect(1px 1px 1px 1px);clip: rect(1px, 1px, 1px, 1px);height: 1px;margin: -1px;overflow: hidden;padding: 0;position: absolute;width: 1px;}#sk-container-id-9 div.sk-estimator {font-family: monospace;background-color: #f0f8ff;border: 1px dotted black;border-radius: 0.25em;box-sizing: border-box;margin-bottom: 0.5em;}#sk-container-id-9 div.sk-estimator:hover {background-color: #d4ebff;}#sk-container-id-9 div.sk-parallel-item::after {content: \"\";width: 100%;border-bottom: 1px solid gray;flex-grow: 1;}#sk-container-id-9 div.sk-label:hover label.sk-toggleable__label {background-color: #d4ebff;}#sk-container-id-9 div.sk-serial::before {content: \"\";position: absolute;border-left: 1px solid gray;box-sizing: border-box;top: 0;bottom: 0;left: 50%;z-index: 0;}#sk-container-id-9 div.sk-serial {display: flex;flex-direction: column;align-items: center;background-color: white;padding-right: 0.2em;padding-left: 0.2em;position: relative;}#sk-container-id-9 div.sk-item {position: relative;z-index: 1;}#sk-container-id-9 div.sk-parallel {display: flex;align-items: stretch;justify-content: center;background-color: white;position: relative;}#sk-container-id-9 div.sk-item::before, #sk-container-id-9 div.sk-parallel-item::before {content: \"\";position: absolute;border-left: 1px solid gray;box-sizing: border-box;top: 0;bottom: 0;left: 50%;z-index: -1;}#sk-container-id-9 div.sk-parallel-item {display: flex;flex-direction: column;z-index: 1;position: relative;background-color: white;}#sk-container-id-9 div.sk-parallel-item:first-child::after {align-self: flex-end;width: 50%;}#sk-container-id-9 div.sk-parallel-item:last-child::after {align-self: flex-start;width: 50%;}#sk-container-id-9 div.sk-parallel-item:only-child::after {width: 0;}#sk-container-id-9 div.sk-dashed-wrapped {border: 1px dashed gray;margin: 0 0.4em 0.5em 0.4em;box-sizing: border-box;padding-bottom: 0.4em;background-color: white;}#sk-container-id-9 div.sk-label label {font-family: monospace;font-weight: bold;display: inline-block;line-height: 1.2em;}#sk-container-id-9 div.sk-label-container {text-align: center;}#sk-container-id-9 div.sk-container {/* jupyter's `normalize.less` sets `[hidden] { display: none; }` but bootstrap.min.css set `[hidden] { display: none !important; }` so we also need the `!important` here to be able to override the default hidden behavior on the sphinx rendered scikit-learn.org. See: https://github.com/scikit-learn/scikit-learn/issues/21755 */display: inline-block !important;position: relative;}#sk-container-id-9 div.sk-text-repr-fallback {display: none;}</style><div id=\"sk-container-id-9\" class=\"sk-top-container\"><div class=\"sk-text-repr-fallback\"><pre>DecisionTreeClassifier()</pre><b>In a Jupyter environment, please rerun this cell to show the HTML representation or trust the notebook. <br />On GitHub, the HTML representation is unable to render, please try loading this page with nbviewer.org.</b></div><div class=\"sk-container\" hidden><div class=\"sk-item\"><div class=\"sk-estimator sk-toggleable\"><input class=\"sk-toggleable__control sk-hidden--visually\" id=\"sk-estimator-id-9\" type=\"checkbox\" checked><label for=\"sk-estimator-id-9\" class=\"sk-toggleable__label sk-toggleable__label-arrow\">DecisionTreeClassifier</label><div class=\"sk-toggleable__content\"><pre>DecisionTreeClassifier()</pre></div></div></div></div></div>"
            ]
          },
          "metadata": {},
          "execution_count": 88
        }
      ],
      "source": [
        "dtree.fit(X_train,y_train)"
      ]
    },
    {
      "cell_type": "code",
      "execution_count": null,
      "id": "2fdc18d4-4f6a-40df-85eb-7cb3299c72cc",
      "metadata": {
        "id": "2fdc18d4-4f6a-40df-85eb-7cb3299c72cc"
      },
      "outputs": [],
      "source": [
        "y_pred=dtree.predict(X_test)"
      ]
    },
    {
      "cell_type": "code",
      "execution_count": null,
      "id": "42e2b130-7a5e-4141-a229-287278674579",
      "metadata": {
        "colab": {
          "base_uri": "https://localhost:8080/"
        },
        "id": "42e2b130-7a5e-4141-a229-287278674579",
        "outputId": "5c419cc0-6429-431b-9003-736484c69b0e"
      },
      "outputs": [
        {
          "output_type": "stream",
          "name": "stdout",
          "text": [
            "              precision    recall  f1-score   support\n",
            "\n",
            "           1       0.96      0.95      0.96      1621\n",
            "           2       0.95      0.96      0.96      1573\n",
            "\n",
            "    accuracy                           0.96      3194\n",
            "   macro avg       0.96      0.96      0.96      3194\n",
            "weighted avg       0.96      0.96      0.96      3194\n",
            "\n"
          ]
        }
      ],
      "source": [
        "print(classification_report(y_pred,y_test))"
      ]
    },
    {
      "cell_type": "markdown",
      "id": "b6865b3c-5819-47c8-a3f0-8581f5329aff",
      "metadata": {
        "id": "b6865b3c-5819-47c8-a3f0-8581f5329aff"
      },
      "source": [
        "### RandomForest"
      ]
    },
    {
      "cell_type": "code",
      "execution_count": null,
      "id": "b3f51ff3-1ce8-4f9c-996e-663c686160b8",
      "metadata": {
        "id": "b3f51ff3-1ce8-4f9c-996e-663c686160b8"
      },
      "outputs": [],
      "source": [
        "from sklearn.ensemble import RandomForestClassifier"
      ]
    },
    {
      "cell_type": "code",
      "execution_count": null,
      "id": "9ea92a97-00a9-4258-8c31-2a9e8c03935b",
      "metadata": {
        "id": "9ea92a97-00a9-4258-8c31-2a9e8c03935b"
      },
      "outputs": [],
      "source": [
        "rfc=RandomForestClassifier()"
      ]
    },
    {
      "cell_type": "code",
      "execution_count": null,
      "id": "47cd9605-75fb-4a30-89ff-d51a9cc2a533",
      "metadata": {
        "colab": {
          "base_uri": "https://localhost:8080/",
          "height": 74
        },
        "id": "47cd9605-75fb-4a30-89ff-d51a9cc2a533",
        "outputId": "4a4a0fde-a90b-47f2-e000-d56366a3b4e1"
      },
      "outputs": [
        {
          "output_type": "execute_result",
          "data": {
            "text/plain": [
              "RandomForestClassifier()"
            ],
            "text/html": [
              "<style>#sk-container-id-10 {color: black;}#sk-container-id-10 pre{padding: 0;}#sk-container-id-10 div.sk-toggleable {background-color: white;}#sk-container-id-10 label.sk-toggleable__label {cursor: pointer;display: block;width: 100%;margin-bottom: 0;padding: 0.3em;box-sizing: border-box;text-align: center;}#sk-container-id-10 label.sk-toggleable__label-arrow:before {content: \"▸\";float: left;margin-right: 0.25em;color: #696969;}#sk-container-id-10 label.sk-toggleable__label-arrow:hover:before {color: black;}#sk-container-id-10 div.sk-estimator:hover label.sk-toggleable__label-arrow:before {color: black;}#sk-container-id-10 div.sk-toggleable__content {max-height: 0;max-width: 0;overflow: hidden;text-align: left;background-color: #f0f8ff;}#sk-container-id-10 div.sk-toggleable__content pre {margin: 0.2em;color: black;border-radius: 0.25em;background-color: #f0f8ff;}#sk-container-id-10 input.sk-toggleable__control:checked~div.sk-toggleable__content {max-height: 200px;max-width: 100%;overflow: auto;}#sk-container-id-10 input.sk-toggleable__control:checked~label.sk-toggleable__label-arrow:before {content: \"▾\";}#sk-container-id-10 div.sk-estimator input.sk-toggleable__control:checked~label.sk-toggleable__label {background-color: #d4ebff;}#sk-container-id-10 div.sk-label input.sk-toggleable__control:checked~label.sk-toggleable__label {background-color: #d4ebff;}#sk-container-id-10 input.sk-hidden--visually {border: 0;clip: rect(1px 1px 1px 1px);clip: rect(1px, 1px, 1px, 1px);height: 1px;margin: -1px;overflow: hidden;padding: 0;position: absolute;width: 1px;}#sk-container-id-10 div.sk-estimator {font-family: monospace;background-color: #f0f8ff;border: 1px dotted black;border-radius: 0.25em;box-sizing: border-box;margin-bottom: 0.5em;}#sk-container-id-10 div.sk-estimator:hover {background-color: #d4ebff;}#sk-container-id-10 div.sk-parallel-item::after {content: \"\";width: 100%;border-bottom: 1px solid gray;flex-grow: 1;}#sk-container-id-10 div.sk-label:hover label.sk-toggleable__label {background-color: #d4ebff;}#sk-container-id-10 div.sk-serial::before {content: \"\";position: absolute;border-left: 1px solid gray;box-sizing: border-box;top: 0;bottom: 0;left: 50%;z-index: 0;}#sk-container-id-10 div.sk-serial {display: flex;flex-direction: column;align-items: center;background-color: white;padding-right: 0.2em;padding-left: 0.2em;position: relative;}#sk-container-id-10 div.sk-item {position: relative;z-index: 1;}#sk-container-id-10 div.sk-parallel {display: flex;align-items: stretch;justify-content: center;background-color: white;position: relative;}#sk-container-id-10 div.sk-item::before, #sk-container-id-10 div.sk-parallel-item::before {content: \"\";position: absolute;border-left: 1px solid gray;box-sizing: border-box;top: 0;bottom: 0;left: 50%;z-index: -1;}#sk-container-id-10 div.sk-parallel-item {display: flex;flex-direction: column;z-index: 1;position: relative;background-color: white;}#sk-container-id-10 div.sk-parallel-item:first-child::after {align-self: flex-end;width: 50%;}#sk-container-id-10 div.sk-parallel-item:last-child::after {align-self: flex-start;width: 50%;}#sk-container-id-10 div.sk-parallel-item:only-child::after {width: 0;}#sk-container-id-10 div.sk-dashed-wrapped {border: 1px dashed gray;margin: 0 0.4em 0.5em 0.4em;box-sizing: border-box;padding-bottom: 0.4em;background-color: white;}#sk-container-id-10 div.sk-label label {font-family: monospace;font-weight: bold;display: inline-block;line-height: 1.2em;}#sk-container-id-10 div.sk-label-container {text-align: center;}#sk-container-id-10 div.sk-container {/* jupyter's `normalize.less` sets `[hidden] { display: none; }` but bootstrap.min.css set `[hidden] { display: none !important; }` so we also need the `!important` here to be able to override the default hidden behavior on the sphinx rendered scikit-learn.org. See: https://github.com/scikit-learn/scikit-learn/issues/21755 */display: inline-block !important;position: relative;}#sk-container-id-10 div.sk-text-repr-fallback {display: none;}</style><div id=\"sk-container-id-10\" class=\"sk-top-container\"><div class=\"sk-text-repr-fallback\"><pre>RandomForestClassifier()</pre><b>In a Jupyter environment, please rerun this cell to show the HTML representation or trust the notebook. <br />On GitHub, the HTML representation is unable to render, please try loading this page with nbviewer.org.</b></div><div class=\"sk-container\" hidden><div class=\"sk-item\"><div class=\"sk-estimator sk-toggleable\"><input class=\"sk-toggleable__control sk-hidden--visually\" id=\"sk-estimator-id-10\" type=\"checkbox\" checked><label for=\"sk-estimator-id-10\" class=\"sk-toggleable__label sk-toggleable__label-arrow\">RandomForestClassifier</label><div class=\"sk-toggleable__content\"><pre>RandomForestClassifier()</pre></div></div></div></div></div>"
            ]
          },
          "metadata": {},
          "execution_count": 93
        }
      ],
      "source": [
        "rfc.fit(X_train,y_train)"
      ]
    },
    {
      "cell_type": "code",
      "execution_count": null,
      "id": "a42e677c-eb3e-44e2-bf15-3e66044f16b3",
      "metadata": {
        "id": "a42e677c-eb3e-44e2-bf15-3e66044f16b3"
      },
      "outputs": [],
      "source": [
        "y_pred=rfc.predict(X_test)"
      ]
    },
    {
      "cell_type": "code",
      "execution_count": null,
      "id": "f67e7a20-880a-4aeb-bf00-fa3b755d0536",
      "metadata": {
        "colab": {
          "base_uri": "https://localhost:8080/"
        },
        "id": "f67e7a20-880a-4aeb-bf00-fa3b755d0536",
        "outputId": "ae3ea658-56bc-4c0b-fe60-62621063da9c"
      },
      "outputs": [
        {
          "output_type": "stream",
          "name": "stdout",
          "text": [
            "              precision    recall  f1-score   support\n",
            "\n",
            "           1       0.96      0.99      0.98      1554\n",
            "           2       0.99      0.96      0.98      1640\n",
            "\n",
            "    accuracy                           0.98      3194\n",
            "   macro avg       0.98      0.98      0.98      3194\n",
            "weighted avg       0.98      0.98      0.98      3194\n",
            "\n"
          ]
        }
      ],
      "source": [
        "print(classification_report(y_pred,y_test))"
      ]
    },
    {
      "cell_type": "markdown",
      "id": "13b927f7-78c0-4455-b491-2181285ebb5c",
      "metadata": {
        "id": "13b927f7-78c0-4455-b491-2181285ebb5c"
      },
      "source": [
        "### Logistic Regression"
      ]
    },
    {
      "cell_type": "code",
      "execution_count": null,
      "id": "7a8e2718-ec03-4962-80e0-5975628c9fcc",
      "metadata": {
        "id": "7a8e2718-ec03-4962-80e0-5975628c9fcc"
      },
      "outputs": [],
      "source": [
        "from sklearn.linear_model import LogisticRegression"
      ]
    },
    {
      "cell_type": "code",
      "execution_count": null,
      "id": "c5856423-b221-4630-9364-dc91fb2e26af",
      "metadata": {
        "id": "c5856423-b221-4630-9364-dc91fb2e26af"
      },
      "outputs": [],
      "source": [
        "logr=LogisticRegression()"
      ]
    },
    {
      "cell_type": "code",
      "execution_count": null,
      "id": "289fa3c6-00f5-4a70-a37d-532c47e748a7",
      "metadata": {
        "colab": {
          "base_uri": "https://localhost:8080/",
          "height": 74
        },
        "id": "289fa3c6-00f5-4a70-a37d-532c47e748a7",
        "outputId": "a6011fa9-110d-4cec-f8d0-6eee220bf803"
      },
      "outputs": [
        {
          "output_type": "execute_result",
          "data": {
            "text/plain": [
              "LogisticRegression()"
            ],
            "text/html": [
              "<style>#sk-container-id-11 {color: black;}#sk-container-id-11 pre{padding: 0;}#sk-container-id-11 div.sk-toggleable {background-color: white;}#sk-container-id-11 label.sk-toggleable__label {cursor: pointer;display: block;width: 100%;margin-bottom: 0;padding: 0.3em;box-sizing: border-box;text-align: center;}#sk-container-id-11 label.sk-toggleable__label-arrow:before {content: \"▸\";float: left;margin-right: 0.25em;color: #696969;}#sk-container-id-11 label.sk-toggleable__label-arrow:hover:before {color: black;}#sk-container-id-11 div.sk-estimator:hover label.sk-toggleable__label-arrow:before {color: black;}#sk-container-id-11 div.sk-toggleable__content {max-height: 0;max-width: 0;overflow: hidden;text-align: left;background-color: #f0f8ff;}#sk-container-id-11 div.sk-toggleable__content pre {margin: 0.2em;color: black;border-radius: 0.25em;background-color: #f0f8ff;}#sk-container-id-11 input.sk-toggleable__control:checked~div.sk-toggleable__content {max-height: 200px;max-width: 100%;overflow: auto;}#sk-container-id-11 input.sk-toggleable__control:checked~label.sk-toggleable__label-arrow:before {content: \"▾\";}#sk-container-id-11 div.sk-estimator input.sk-toggleable__control:checked~label.sk-toggleable__label {background-color: #d4ebff;}#sk-container-id-11 div.sk-label input.sk-toggleable__control:checked~label.sk-toggleable__label {background-color: #d4ebff;}#sk-container-id-11 input.sk-hidden--visually {border: 0;clip: rect(1px 1px 1px 1px);clip: rect(1px, 1px, 1px, 1px);height: 1px;margin: -1px;overflow: hidden;padding: 0;position: absolute;width: 1px;}#sk-container-id-11 div.sk-estimator {font-family: monospace;background-color: #f0f8ff;border: 1px dotted black;border-radius: 0.25em;box-sizing: border-box;margin-bottom: 0.5em;}#sk-container-id-11 div.sk-estimator:hover {background-color: #d4ebff;}#sk-container-id-11 div.sk-parallel-item::after {content: \"\";width: 100%;border-bottom: 1px solid gray;flex-grow: 1;}#sk-container-id-11 div.sk-label:hover label.sk-toggleable__label {background-color: #d4ebff;}#sk-container-id-11 div.sk-serial::before {content: \"\";position: absolute;border-left: 1px solid gray;box-sizing: border-box;top: 0;bottom: 0;left: 50%;z-index: 0;}#sk-container-id-11 div.sk-serial {display: flex;flex-direction: column;align-items: center;background-color: white;padding-right: 0.2em;padding-left: 0.2em;position: relative;}#sk-container-id-11 div.sk-item {position: relative;z-index: 1;}#sk-container-id-11 div.sk-parallel {display: flex;align-items: stretch;justify-content: center;background-color: white;position: relative;}#sk-container-id-11 div.sk-item::before, #sk-container-id-11 div.sk-parallel-item::before {content: \"\";position: absolute;border-left: 1px solid gray;box-sizing: border-box;top: 0;bottom: 0;left: 50%;z-index: -1;}#sk-container-id-11 div.sk-parallel-item {display: flex;flex-direction: column;z-index: 1;position: relative;background-color: white;}#sk-container-id-11 div.sk-parallel-item:first-child::after {align-self: flex-end;width: 50%;}#sk-container-id-11 div.sk-parallel-item:last-child::after {align-self: flex-start;width: 50%;}#sk-container-id-11 div.sk-parallel-item:only-child::after {width: 0;}#sk-container-id-11 div.sk-dashed-wrapped {border: 1px dashed gray;margin: 0 0.4em 0.5em 0.4em;box-sizing: border-box;padding-bottom: 0.4em;background-color: white;}#sk-container-id-11 div.sk-label label {font-family: monospace;font-weight: bold;display: inline-block;line-height: 1.2em;}#sk-container-id-11 div.sk-label-container {text-align: center;}#sk-container-id-11 div.sk-container {/* jupyter's `normalize.less` sets `[hidden] { display: none; }` but bootstrap.min.css set `[hidden] { display: none !important; }` so we also need the `!important` here to be able to override the default hidden behavior on the sphinx rendered scikit-learn.org. See: https://github.com/scikit-learn/scikit-learn/issues/21755 */display: inline-block !important;position: relative;}#sk-container-id-11 div.sk-text-repr-fallback {display: none;}</style><div id=\"sk-container-id-11\" class=\"sk-top-container\"><div class=\"sk-text-repr-fallback\"><pre>LogisticRegression()</pre><b>In a Jupyter environment, please rerun this cell to show the HTML representation or trust the notebook. <br />On GitHub, the HTML representation is unable to render, please try loading this page with nbviewer.org.</b></div><div class=\"sk-container\" hidden><div class=\"sk-item\"><div class=\"sk-estimator sk-toggleable\"><input class=\"sk-toggleable__control sk-hidden--visually\" id=\"sk-estimator-id-11\" type=\"checkbox\" checked><label for=\"sk-estimator-id-11\" class=\"sk-toggleable__label sk-toggleable__label-arrow\">LogisticRegression</label><div class=\"sk-toggleable__content\"><pre>LogisticRegression()</pre></div></div></div></div></div>"
            ]
          },
          "metadata": {},
          "execution_count": 98
        }
      ],
      "source": [
        "logr.fit(X_train,y_train)"
      ]
    },
    {
      "cell_type": "code",
      "execution_count": null,
      "id": "87935df8-fae4-4f7b-847e-10755cb76540",
      "metadata": {
        "id": "87935df8-fae4-4f7b-847e-10755cb76540"
      },
      "outputs": [],
      "source": [
        "y_pred=logr.predict(X_test)"
      ]
    },
    {
      "cell_type": "code",
      "execution_count": null,
      "id": "ca9b9d60-9125-4971-8aca-55a27078de93",
      "metadata": {
        "colab": {
          "base_uri": "https://localhost:8080/"
        },
        "id": "ca9b9d60-9125-4971-8aca-55a27078de93",
        "outputId": "6384595c-6137-4180-85b3-ae33a00dff5f"
      },
      "outputs": [
        {
          "output_type": "stream",
          "name": "stdout",
          "text": [
            "              precision    recall  f1-score   support\n",
            "\n",
            "           1       0.86      0.94      0.90      1463\n",
            "           2       0.94      0.87      0.91      1731\n",
            "\n",
            "    accuracy                           0.90      3194\n",
            "   macro avg       0.90      0.91      0.90      3194\n",
            "weighted avg       0.91      0.90      0.90      3194\n",
            "\n"
          ]
        }
      ],
      "source": [
        "print(classification_report(y_pred,y_test))"
      ]
    },
    {
      "cell_type": "markdown",
      "id": "0933eb33-8b0f-4906-ab74-98a2993d7d8a",
      "metadata": {
        "id": "0933eb33-8b0f-4906-ab74-98a2993d7d8a"
      },
      "source": [
        "### NaiveBayes"
      ]
    },
    {
      "cell_type": "code",
      "execution_count": null,
      "id": "daeec740-fbc3-4741-bf11-f20709880fc5",
      "metadata": {
        "id": "daeec740-fbc3-4741-bf11-f20709880fc5"
      },
      "outputs": [],
      "source": [
        "from sklearn.naive_bayes import GaussianNB"
      ]
    },
    {
      "cell_type": "code",
      "execution_count": null,
      "id": "3e8ccb9b-589a-4d46-bb2c-47b1fc5b7557",
      "metadata": {
        "id": "3e8ccb9b-589a-4d46-bb2c-47b1fc5b7557"
      },
      "outputs": [],
      "source": [
        "gnb=GaussianNB()"
      ]
    },
    {
      "cell_type": "code",
      "execution_count": null,
      "id": "c2511dcb-abba-4fa8-8103-b9d81cabbff9",
      "metadata": {
        "colab": {
          "base_uri": "https://localhost:8080/",
          "height": 74
        },
        "id": "c2511dcb-abba-4fa8-8103-b9d81cabbff9",
        "outputId": "5c994177-fb3f-4eae-f3dc-6c128c496274"
      },
      "outputs": [
        {
          "output_type": "execute_result",
          "data": {
            "text/plain": [
              "GaussianNB()"
            ],
            "text/html": [
              "<style>#sk-container-id-12 {color: black;}#sk-container-id-12 pre{padding: 0;}#sk-container-id-12 div.sk-toggleable {background-color: white;}#sk-container-id-12 label.sk-toggleable__label {cursor: pointer;display: block;width: 100%;margin-bottom: 0;padding: 0.3em;box-sizing: border-box;text-align: center;}#sk-container-id-12 label.sk-toggleable__label-arrow:before {content: \"▸\";float: left;margin-right: 0.25em;color: #696969;}#sk-container-id-12 label.sk-toggleable__label-arrow:hover:before {color: black;}#sk-container-id-12 div.sk-estimator:hover label.sk-toggleable__label-arrow:before {color: black;}#sk-container-id-12 div.sk-toggleable__content {max-height: 0;max-width: 0;overflow: hidden;text-align: left;background-color: #f0f8ff;}#sk-container-id-12 div.sk-toggleable__content pre {margin: 0.2em;color: black;border-radius: 0.25em;background-color: #f0f8ff;}#sk-container-id-12 input.sk-toggleable__control:checked~div.sk-toggleable__content {max-height: 200px;max-width: 100%;overflow: auto;}#sk-container-id-12 input.sk-toggleable__control:checked~label.sk-toggleable__label-arrow:before {content: \"▾\";}#sk-container-id-12 div.sk-estimator input.sk-toggleable__control:checked~label.sk-toggleable__label {background-color: #d4ebff;}#sk-container-id-12 div.sk-label input.sk-toggleable__control:checked~label.sk-toggleable__label {background-color: #d4ebff;}#sk-container-id-12 input.sk-hidden--visually {border: 0;clip: rect(1px 1px 1px 1px);clip: rect(1px, 1px, 1px, 1px);height: 1px;margin: -1px;overflow: hidden;padding: 0;position: absolute;width: 1px;}#sk-container-id-12 div.sk-estimator {font-family: monospace;background-color: #f0f8ff;border: 1px dotted black;border-radius: 0.25em;box-sizing: border-box;margin-bottom: 0.5em;}#sk-container-id-12 div.sk-estimator:hover {background-color: #d4ebff;}#sk-container-id-12 div.sk-parallel-item::after {content: \"\";width: 100%;border-bottom: 1px solid gray;flex-grow: 1;}#sk-container-id-12 div.sk-label:hover label.sk-toggleable__label {background-color: #d4ebff;}#sk-container-id-12 div.sk-serial::before {content: \"\";position: absolute;border-left: 1px solid gray;box-sizing: border-box;top: 0;bottom: 0;left: 50%;z-index: 0;}#sk-container-id-12 div.sk-serial {display: flex;flex-direction: column;align-items: center;background-color: white;padding-right: 0.2em;padding-left: 0.2em;position: relative;}#sk-container-id-12 div.sk-item {position: relative;z-index: 1;}#sk-container-id-12 div.sk-parallel {display: flex;align-items: stretch;justify-content: center;background-color: white;position: relative;}#sk-container-id-12 div.sk-item::before, #sk-container-id-12 div.sk-parallel-item::before {content: \"\";position: absolute;border-left: 1px solid gray;box-sizing: border-box;top: 0;bottom: 0;left: 50%;z-index: -1;}#sk-container-id-12 div.sk-parallel-item {display: flex;flex-direction: column;z-index: 1;position: relative;background-color: white;}#sk-container-id-12 div.sk-parallel-item:first-child::after {align-self: flex-end;width: 50%;}#sk-container-id-12 div.sk-parallel-item:last-child::after {align-self: flex-start;width: 50%;}#sk-container-id-12 div.sk-parallel-item:only-child::after {width: 0;}#sk-container-id-12 div.sk-dashed-wrapped {border: 1px dashed gray;margin: 0 0.4em 0.5em 0.4em;box-sizing: border-box;padding-bottom: 0.4em;background-color: white;}#sk-container-id-12 div.sk-label label {font-family: monospace;font-weight: bold;display: inline-block;line-height: 1.2em;}#sk-container-id-12 div.sk-label-container {text-align: center;}#sk-container-id-12 div.sk-container {/* jupyter's `normalize.less` sets `[hidden] { display: none; }` but bootstrap.min.css set `[hidden] { display: none !important; }` so we also need the `!important` here to be able to override the default hidden behavior on the sphinx rendered scikit-learn.org. See: https://github.com/scikit-learn/scikit-learn/issues/21755 */display: inline-block !important;position: relative;}#sk-container-id-12 div.sk-text-repr-fallback {display: none;}</style><div id=\"sk-container-id-12\" class=\"sk-top-container\"><div class=\"sk-text-repr-fallback\"><pre>GaussianNB()</pre><b>In a Jupyter environment, please rerun this cell to show the HTML representation or trust the notebook. <br />On GitHub, the HTML representation is unable to render, please try loading this page with nbviewer.org.</b></div><div class=\"sk-container\" hidden><div class=\"sk-item\"><div class=\"sk-estimator sk-toggleable\"><input class=\"sk-toggleable__control sk-hidden--visually\" id=\"sk-estimator-id-12\" type=\"checkbox\" checked><label for=\"sk-estimator-id-12\" class=\"sk-toggleable__label sk-toggleable__label-arrow\">GaussianNB</label><div class=\"sk-toggleable__content\"><pre>GaussianNB()</pre></div></div></div></div></div>"
            ]
          },
          "metadata": {},
          "execution_count": 103
        }
      ],
      "source": [
        "gnb.fit(X_train,y_train)"
      ]
    },
    {
      "cell_type": "code",
      "execution_count": null,
      "id": "94f80054-da1c-4f60-90df-ae10030debb6",
      "metadata": {
        "id": "94f80054-da1c-4f60-90df-ae10030debb6"
      },
      "outputs": [],
      "source": [
        "y_pred=gnb.predict(X_test)"
      ]
    },
    {
      "cell_type": "code",
      "execution_count": null,
      "id": "8f11d47e-b927-4b32-bd4f-84a8ac8c9a4c",
      "metadata": {
        "colab": {
          "base_uri": "https://localhost:8080/"
        },
        "id": "8f11d47e-b927-4b32-bd4f-84a8ac8c9a4c",
        "outputId": "f7d391f4-d87a-4310-9c6b-0ac46e937f3f"
      },
      "outputs": [
        {
          "output_type": "stream",
          "name": "stdout",
          "text": [
            "              precision    recall  f1-score   support\n",
            "\n",
            "           1       0.73      0.95      0.82      1220\n",
            "           2       0.96      0.78      0.86      1974\n",
            "\n",
            "    accuracy                           0.84      3194\n",
            "   macro avg       0.84      0.87      0.84      3194\n",
            "weighted avg       0.87      0.84      0.85      3194\n",
            "\n"
          ]
        }
      ],
      "source": [
        "print(classification_report(y_pred,y_test))"
      ]
    },
    {
      "cell_type": "markdown",
      "id": "4065faca-1838-4e87-bf5c-a0c2d4a2503c",
      "metadata": {
        "id": "4065faca-1838-4e87-bf5c-a0c2d4a2503c"
      },
      "source": [
        "### Support Vector Machine"
      ]
    },
    {
      "cell_type": "code",
      "execution_count": null,
      "id": "005941ae-14d9-4245-96d8-356ba4ad7cc8",
      "metadata": {
        "id": "005941ae-14d9-4245-96d8-356ba4ad7cc8"
      },
      "outputs": [],
      "source": [
        "from sklearn.svm import SVC"
      ]
    },
    {
      "cell_type": "code",
      "execution_count": null,
      "id": "f8dc5660-2281-4119-a912-91f6c8978a73",
      "metadata": {
        "id": "f8dc5660-2281-4119-a912-91f6c8978a73"
      },
      "outputs": [],
      "source": [
        "svc=SVC()"
      ]
    },
    {
      "cell_type": "code",
      "execution_count": null,
      "id": "f849e660-4093-428d-95da-621d836c7fcc",
      "metadata": {
        "colab": {
          "base_uri": "https://localhost:8080/",
          "height": 74
        },
        "id": "f849e660-4093-428d-95da-621d836c7fcc",
        "outputId": "7531307d-9c31-4175-8f3c-51e290f57b37"
      },
      "outputs": [
        {
          "output_type": "execute_result",
          "data": {
            "text/plain": [
              "SVC()"
            ],
            "text/html": [
              "<style>#sk-container-id-13 {color: black;}#sk-container-id-13 pre{padding: 0;}#sk-container-id-13 div.sk-toggleable {background-color: white;}#sk-container-id-13 label.sk-toggleable__label {cursor: pointer;display: block;width: 100%;margin-bottom: 0;padding: 0.3em;box-sizing: border-box;text-align: center;}#sk-container-id-13 label.sk-toggleable__label-arrow:before {content: \"▸\";float: left;margin-right: 0.25em;color: #696969;}#sk-container-id-13 label.sk-toggleable__label-arrow:hover:before {color: black;}#sk-container-id-13 div.sk-estimator:hover label.sk-toggleable__label-arrow:before {color: black;}#sk-container-id-13 div.sk-toggleable__content {max-height: 0;max-width: 0;overflow: hidden;text-align: left;background-color: #f0f8ff;}#sk-container-id-13 div.sk-toggleable__content pre {margin: 0.2em;color: black;border-radius: 0.25em;background-color: #f0f8ff;}#sk-container-id-13 input.sk-toggleable__control:checked~div.sk-toggleable__content {max-height: 200px;max-width: 100%;overflow: auto;}#sk-container-id-13 input.sk-toggleable__control:checked~label.sk-toggleable__label-arrow:before {content: \"▾\";}#sk-container-id-13 div.sk-estimator input.sk-toggleable__control:checked~label.sk-toggleable__label {background-color: #d4ebff;}#sk-container-id-13 div.sk-label input.sk-toggleable__control:checked~label.sk-toggleable__label {background-color: #d4ebff;}#sk-container-id-13 input.sk-hidden--visually {border: 0;clip: rect(1px 1px 1px 1px);clip: rect(1px, 1px, 1px, 1px);height: 1px;margin: -1px;overflow: hidden;padding: 0;position: absolute;width: 1px;}#sk-container-id-13 div.sk-estimator {font-family: monospace;background-color: #f0f8ff;border: 1px dotted black;border-radius: 0.25em;box-sizing: border-box;margin-bottom: 0.5em;}#sk-container-id-13 div.sk-estimator:hover {background-color: #d4ebff;}#sk-container-id-13 div.sk-parallel-item::after {content: \"\";width: 100%;border-bottom: 1px solid gray;flex-grow: 1;}#sk-container-id-13 div.sk-label:hover label.sk-toggleable__label {background-color: #d4ebff;}#sk-container-id-13 div.sk-serial::before {content: \"\";position: absolute;border-left: 1px solid gray;box-sizing: border-box;top: 0;bottom: 0;left: 50%;z-index: 0;}#sk-container-id-13 div.sk-serial {display: flex;flex-direction: column;align-items: center;background-color: white;padding-right: 0.2em;padding-left: 0.2em;position: relative;}#sk-container-id-13 div.sk-item {position: relative;z-index: 1;}#sk-container-id-13 div.sk-parallel {display: flex;align-items: stretch;justify-content: center;background-color: white;position: relative;}#sk-container-id-13 div.sk-item::before, #sk-container-id-13 div.sk-parallel-item::before {content: \"\";position: absolute;border-left: 1px solid gray;box-sizing: border-box;top: 0;bottom: 0;left: 50%;z-index: -1;}#sk-container-id-13 div.sk-parallel-item {display: flex;flex-direction: column;z-index: 1;position: relative;background-color: white;}#sk-container-id-13 div.sk-parallel-item:first-child::after {align-self: flex-end;width: 50%;}#sk-container-id-13 div.sk-parallel-item:last-child::after {align-self: flex-start;width: 50%;}#sk-container-id-13 div.sk-parallel-item:only-child::after {width: 0;}#sk-container-id-13 div.sk-dashed-wrapped {border: 1px dashed gray;margin: 0 0.4em 0.5em 0.4em;box-sizing: border-box;padding-bottom: 0.4em;background-color: white;}#sk-container-id-13 div.sk-label label {font-family: monospace;font-weight: bold;display: inline-block;line-height: 1.2em;}#sk-container-id-13 div.sk-label-container {text-align: center;}#sk-container-id-13 div.sk-container {/* jupyter's `normalize.less` sets `[hidden] { display: none; }` but bootstrap.min.css set `[hidden] { display: none !important; }` so we also need the `!important` here to be able to override the default hidden behavior on the sphinx rendered scikit-learn.org. See: https://github.com/scikit-learn/scikit-learn/issues/21755 */display: inline-block !important;position: relative;}#sk-container-id-13 div.sk-text-repr-fallback {display: none;}</style><div id=\"sk-container-id-13\" class=\"sk-top-container\"><div class=\"sk-text-repr-fallback\"><pre>SVC()</pre><b>In a Jupyter environment, please rerun this cell to show the HTML representation or trust the notebook. <br />On GitHub, the HTML representation is unable to render, please try loading this page with nbviewer.org.</b></div><div class=\"sk-container\" hidden><div class=\"sk-item\"><div class=\"sk-estimator sk-toggleable\"><input class=\"sk-toggleable__control sk-hidden--visually\" id=\"sk-estimator-id-13\" type=\"checkbox\" checked><label for=\"sk-estimator-id-13\" class=\"sk-toggleable__label sk-toggleable__label-arrow\">SVC</label><div class=\"sk-toggleable__content\"><pre>SVC()</pre></div></div></div></div></div>"
            ]
          },
          "metadata": {},
          "execution_count": 108
        }
      ],
      "source": [
        "svc.fit(X_train,y_train)"
      ]
    },
    {
      "cell_type": "code",
      "execution_count": null,
      "id": "13a32086-ecd5-44fd-87e2-edd2e8260272",
      "metadata": {
        "colab": {
          "base_uri": "https://localhost:8080/",
          "height": 74
        },
        "id": "13a32086-ecd5-44fd-87e2-edd2e8260272",
        "outputId": "57325643-9b7f-4eb6-c169-9efb326ea340"
      },
      "outputs": [
        {
          "output_type": "execute_result",
          "data": {
            "text/plain": [
              "SVC()"
            ],
            "text/html": [
              "<style>#sk-container-id-14 {color: black;}#sk-container-id-14 pre{padding: 0;}#sk-container-id-14 div.sk-toggleable {background-color: white;}#sk-container-id-14 label.sk-toggleable__label {cursor: pointer;display: block;width: 100%;margin-bottom: 0;padding: 0.3em;box-sizing: border-box;text-align: center;}#sk-container-id-14 label.sk-toggleable__label-arrow:before {content: \"▸\";float: left;margin-right: 0.25em;color: #696969;}#sk-container-id-14 label.sk-toggleable__label-arrow:hover:before {color: black;}#sk-container-id-14 div.sk-estimator:hover label.sk-toggleable__label-arrow:before {color: black;}#sk-container-id-14 div.sk-toggleable__content {max-height: 0;max-width: 0;overflow: hidden;text-align: left;background-color: #f0f8ff;}#sk-container-id-14 div.sk-toggleable__content pre {margin: 0.2em;color: black;border-radius: 0.25em;background-color: #f0f8ff;}#sk-container-id-14 input.sk-toggleable__control:checked~div.sk-toggleable__content {max-height: 200px;max-width: 100%;overflow: auto;}#sk-container-id-14 input.sk-toggleable__control:checked~label.sk-toggleable__label-arrow:before {content: \"▾\";}#sk-container-id-14 div.sk-estimator input.sk-toggleable__control:checked~label.sk-toggleable__label {background-color: #d4ebff;}#sk-container-id-14 div.sk-label input.sk-toggleable__control:checked~label.sk-toggleable__label {background-color: #d4ebff;}#sk-container-id-14 input.sk-hidden--visually {border: 0;clip: rect(1px 1px 1px 1px);clip: rect(1px, 1px, 1px, 1px);height: 1px;margin: -1px;overflow: hidden;padding: 0;position: absolute;width: 1px;}#sk-container-id-14 div.sk-estimator {font-family: monospace;background-color: #f0f8ff;border: 1px dotted black;border-radius: 0.25em;box-sizing: border-box;margin-bottom: 0.5em;}#sk-container-id-14 div.sk-estimator:hover {background-color: #d4ebff;}#sk-container-id-14 div.sk-parallel-item::after {content: \"\";width: 100%;border-bottom: 1px solid gray;flex-grow: 1;}#sk-container-id-14 div.sk-label:hover label.sk-toggleable__label {background-color: #d4ebff;}#sk-container-id-14 div.sk-serial::before {content: \"\";position: absolute;border-left: 1px solid gray;box-sizing: border-box;top: 0;bottom: 0;left: 50%;z-index: 0;}#sk-container-id-14 div.sk-serial {display: flex;flex-direction: column;align-items: center;background-color: white;padding-right: 0.2em;padding-left: 0.2em;position: relative;}#sk-container-id-14 div.sk-item {position: relative;z-index: 1;}#sk-container-id-14 div.sk-parallel {display: flex;align-items: stretch;justify-content: center;background-color: white;position: relative;}#sk-container-id-14 div.sk-item::before, #sk-container-id-14 div.sk-parallel-item::before {content: \"\";position: absolute;border-left: 1px solid gray;box-sizing: border-box;top: 0;bottom: 0;left: 50%;z-index: -1;}#sk-container-id-14 div.sk-parallel-item {display: flex;flex-direction: column;z-index: 1;position: relative;background-color: white;}#sk-container-id-14 div.sk-parallel-item:first-child::after {align-self: flex-end;width: 50%;}#sk-container-id-14 div.sk-parallel-item:last-child::after {align-self: flex-start;width: 50%;}#sk-container-id-14 div.sk-parallel-item:only-child::after {width: 0;}#sk-container-id-14 div.sk-dashed-wrapped {border: 1px dashed gray;margin: 0 0.4em 0.5em 0.4em;box-sizing: border-box;padding-bottom: 0.4em;background-color: white;}#sk-container-id-14 div.sk-label label {font-family: monospace;font-weight: bold;display: inline-block;line-height: 1.2em;}#sk-container-id-14 div.sk-label-container {text-align: center;}#sk-container-id-14 div.sk-container {/* jupyter's `normalize.less` sets `[hidden] { display: none; }` but bootstrap.min.css set `[hidden] { display: none !important; }` so we also need the `!important` here to be able to override the default hidden behavior on the sphinx rendered scikit-learn.org. See: https://github.com/scikit-learn/scikit-learn/issues/21755 */display: inline-block !important;position: relative;}#sk-container-id-14 div.sk-text-repr-fallback {display: none;}</style><div id=\"sk-container-id-14\" class=\"sk-top-container\"><div class=\"sk-text-repr-fallback\"><pre>SVC()</pre><b>In a Jupyter environment, please rerun this cell to show the HTML representation or trust the notebook. <br />On GitHub, the HTML representation is unable to render, please try loading this page with nbviewer.org.</b></div><div class=\"sk-container\" hidden><div class=\"sk-item\"><div class=\"sk-estimator sk-toggleable\"><input class=\"sk-toggleable__control sk-hidden--visually\" id=\"sk-estimator-id-14\" type=\"checkbox\" checked><label for=\"sk-estimator-id-14\" class=\"sk-toggleable__label sk-toggleable__label-arrow\">SVC</label><div class=\"sk-toggleable__content\"><pre>SVC()</pre></div></div></div></div></div>"
            ]
          },
          "metadata": {},
          "execution_count": 109
        }
      ],
      "source": [
        "svc.fit(X_train,y_train)"
      ]
    },
    {
      "cell_type": "code",
      "execution_count": null,
      "id": "f0a4102c-2812-41ba-9952-643046772719",
      "metadata": {
        "id": "f0a4102c-2812-41ba-9952-643046772719"
      },
      "outputs": [],
      "source": [
        "y_pred=svc.predict(X_test)"
      ]
    },
    {
      "cell_type": "code",
      "execution_count": null,
      "id": "6d89a222-5995-4f60-ab37-8842dbcf93b2",
      "metadata": {
        "colab": {
          "base_uri": "https://localhost:8080/"
        },
        "id": "6d89a222-5995-4f60-ab37-8842dbcf93b2",
        "outputId": "75aef144-8de7-48f3-e1a8-4af06476866b"
      },
      "outputs": [
        {
          "output_type": "stream",
          "name": "stdout",
          "text": [
            "              precision    recall  f1-score   support\n",
            "\n",
            "           1       0.99      0.39      0.56      1598\n",
            "           2       0.62      1.00      0.76      1596\n",
            "\n",
            "    accuracy                           0.69      3194\n",
            "   macro avg       0.80      0.69      0.66      3194\n",
            "weighted avg       0.80      0.69      0.66      3194\n",
            "\n"
          ]
        }
      ],
      "source": [
        "print(classification_report(y_test,y_pred))"
      ]
    },
    {
      "cell_type": "code",
      "execution_count": null,
      "id": "22695988-8162-469e-be26-4dadcc9b8850",
      "metadata": {
        "colab": {
          "base_uri": "https://localhost:8080/"
        },
        "id": "22695988-8162-469e-be26-4dadcc9b8850",
        "outputId": "bbccee2c-7f10-4809-86d7-c6f2eefbc672"
      },
      "outputs": [
        {
          "output_type": "execute_result",
          "data": {
            "text/plain": [
              "(7451, 46)"
            ]
          },
          "metadata": {},
          "execution_count": 112
        }
      ],
      "source": [
        "X_train.shape"
      ]
    },
    {
      "cell_type": "code",
      "execution_count": null,
      "id": "3297b9e4-ea4c-4a71-90b8-86121ba8f38c",
      "metadata": {
        "colab": {
          "base_uri": "https://localhost:8080/"
        },
        "id": "3297b9e4-ea4c-4a71-90b8-86121ba8f38c",
        "outputId": "5d286625-80b6-4b35-e13b-12f81012a9bd"
      },
      "outputs": [
        {
          "output_type": "execute_result",
          "data": {
            "text/plain": [
              "(7451,)"
            ]
          },
          "metadata": {},
          "execution_count": 113
        }
      ],
      "source": [
        "y_train.shape"
      ]
    },
    {
      "cell_type": "markdown",
      "id": "05d4b3d9-e5a8-4901-8f7b-1d3b08a9dd1e",
      "metadata": {
        "id": "05d4b3d9-e5a8-4901-8f7b-1d3b08a9dd1e"
      },
      "source": [
        "# Deep Learning"
      ]
    },
    {
      "cell_type": "markdown",
      "source": [
        "# **1. 1D CNN**"
      ],
      "metadata": {
        "id": "6Djj8aqSKfDj"
      },
      "id": "6Djj8aqSKfDj"
    },
    {
      "cell_type": "code",
      "execution_count": null,
      "id": "b272c945-5133-46f8-99ab-ad5ea5ca994b",
      "metadata": {
        "id": "b272c945-5133-46f8-99ab-ad5ea5ca994b"
      },
      "outputs": [],
      "source": [
        "import tensorflow as tf\n",
        "from tensorflow.keras.models import Sequential\n",
        "from tensorflow.keras.layers import Conv1D, MaxPooling1D, Flatten, Dense\n",
        "from tensorflow.keras.utils import to_categorical\n",
        "from keras.models import Sequential\n",
        "from keras import layers"
      ]
    },
    {
      "cell_type": "code",
      "execution_count": null,
      "id": "ddf62107-16f3-4b5f-911d-71b5a75cb449",
      "metadata": {
        "id": "ddf62107-16f3-4b5f-911d-71b5a75cb449"
      },
      "outputs": [],
      "source": [
        "X_train = X_train.values\n",
        "y_train = y_train.values\n",
        "\n",
        "# Reshape the data to add a channel dimension (required for Conv1D)\n",
        "X_train = X_train.reshape((X_train.shape[0], X_train.shape[1], 1))\n",
        "\n",
        "# Convert labels to categorical if it's a classification problem\n",
        "y_train = to_categorical(y_train)\n",
        "\n",
        "# Define the model\n",
        "model = Sequential([\n",
        "    Conv1D(filters=64, kernel_size=3, activation='relu', input_shape=(46, 1)),\n",
        "    MaxPooling1D(pool_size=2),\n",
        "    Flatten(),\n",
        "    Dense(100, activation='relu'),\n",
        "    Dense(y_train.shape[1], activation='softmax')  # Adjust based on number of classes\n",
        "])\n",
        "\n",
        "# Compile the model\n",
        "model.compile(optimizer='adam', loss='categorical_crossentropy', metrics=['accuracy'])\n"
      ]
    },
    {
      "cell_type": "code",
      "execution_count": null,
      "id": "806e1c1f-6fd2-43b0-8981-aa0d07d03c08",
      "metadata": {
        "colab": {
          "base_uri": "https://localhost:8080/"
        },
        "id": "806e1c1f-6fd2-43b0-8981-aa0d07d03c08",
        "outputId": "e2290476-4cd1-4355-b2a8-50fab7573ff8"
      },
      "outputs": [
        {
          "output_type": "stream",
          "name": "stdout",
          "text": [
            "Epoch 1/30\n",
            "233/233 [==============================] - 2s 7ms/step - loss: 108504.4297 - accuracy: 0.5983\n",
            "Epoch 2/30\n",
            "233/233 [==============================] - 2s 7ms/step - loss: 106534.9609 - accuracy: 0.7290\n",
            "Epoch 3/30\n",
            "233/233 [==============================] - 2s 9ms/step - loss: 46597.5664 - accuracy: 0.7659\n",
            "Epoch 4/30\n",
            "233/233 [==============================] - 3s 12ms/step - loss: 74636.2812 - accuracy: 0.7522\n",
            "Epoch 5/30\n",
            "233/233 [==============================] - 3s 11ms/step - loss: 36038.7617 - accuracy: 0.7908\n",
            "Epoch 6/30\n",
            "233/233 [==============================] - 2s 7ms/step - loss: 50060.7578 - accuracy: 0.7939\n",
            "Epoch 7/30\n",
            "233/233 [==============================] - 2s 7ms/step - loss: 18500.1641 - accuracy: 0.8250\n",
            "Epoch 8/30\n",
            "233/233 [==============================] - 2s 7ms/step - loss: 24003.7832 - accuracy: 0.8185\n",
            "Epoch 9/30\n",
            "233/233 [==============================] - 2s 7ms/step - loss: 32341.1426 - accuracy: 0.7996\n",
            "Epoch 10/30\n",
            "233/233 [==============================] - 2s 7ms/step - loss: 22082.7441 - accuracy: 0.8116\n",
            "Epoch 11/30\n",
            "233/233 [==============================] - 2s 8ms/step - loss: 19093.5098 - accuracy: 0.8235\n",
            "Epoch 12/30\n",
            "233/233 [==============================] - 3s 13ms/step - loss: 13102.4004 - accuracy: 0.8152\n",
            "Epoch 13/30\n",
            "233/233 [==============================] - 4s 16ms/step - loss: 16744.0371 - accuracy: 0.7984\n",
            "Epoch 14/30\n",
            "233/233 [==============================] - 3s 12ms/step - loss: 14061.3652 - accuracy: 0.7756\n",
            "Epoch 15/30\n",
            "233/233 [==============================] - 3s 13ms/step - loss: 15641.5225 - accuracy: 0.8156\n",
            "Epoch 16/30\n",
            "233/233 [==============================] - 3s 13ms/step - loss: 13073.7158 - accuracy: 0.8218\n",
            "Epoch 17/30\n",
            "233/233 [==============================] - 4s 18ms/step - loss: 5589.1914 - accuracy: 0.8500\n",
            "Epoch 18/30\n",
            "233/233 [==============================] - 4s 17ms/step - loss: 3959.3691 - accuracy: 0.8544\n",
            "Epoch 19/30\n",
            "233/233 [==============================] - 3s 14ms/step - loss: 4978.5996 - accuracy: 0.8454\n",
            "Epoch 20/30\n",
            "233/233 [==============================] - 3s 14ms/step - loss: 3329.5188 - accuracy: 0.8636\n",
            "Epoch 21/30\n",
            "233/233 [==============================] - 3s 14ms/step - loss: 2875.0508 - accuracy: 0.8632\n",
            "Epoch 22/30\n",
            "233/233 [==============================] - 4s 18ms/step - loss: 3321.9724 - accuracy: 0.8372\n",
            "Epoch 23/30\n",
            "233/233 [==============================] - 4s 16ms/step - loss: 1694.9364 - accuracy: 0.8424\n",
            "Epoch 24/30\n",
            "233/233 [==============================] - 3s 14ms/step - loss: 829.6127 - accuracy: 0.8654\n",
            "Epoch 25/30\n",
            "233/233 [==============================] - 3s 14ms/step - loss: 787.4085 - accuracy: 0.8305\n",
            "Epoch 26/30\n",
            "233/233 [==============================] - 2s 7ms/step - loss: 648.0504 - accuracy: 0.8304\n",
            "Epoch 27/30\n",
            "233/233 [==============================] - 3s 12ms/step - loss: 372.6720 - accuracy: 0.8522\n",
            "Epoch 28/30\n",
            "233/233 [==============================] - 3s 12ms/step - loss: 22.1441 - accuracy: 0.8490\n",
            "Epoch 29/30\n",
            "233/233 [==============================] - 2s 7ms/step - loss: 85.8177 - accuracy: 0.8259\n",
            "Epoch 30/30\n",
            "233/233 [==============================] - 2s 7ms/step - loss: 471.5424 - accuracy: 0.7422\n"
          ]
        }
      ],
      "source": [
        "# Train the model\n",
        "history=model.fit(X_train, y_train, epochs=30, batch_size=32)"
      ]
    },
    {
      "cell_type": "code",
      "source": [
        "# Evaluate the model (on training data for this example)\n",
        "loss, accuracy = model.evaluate(X_train, y_train)\n",
        "print(f'Training accuracy: {accuracy}')"
      ],
      "metadata": {
        "colab": {
          "base_uri": "https://localhost:8080/"
        },
        "id": "gq71pf9tIwvh",
        "outputId": "2ce8a4e1-48e8-4b82-d910-b0e0cc39e5c1"
      },
      "id": "gq71pf9tIwvh",
      "execution_count": null,
      "outputs": [
        {
          "output_type": "stream",
          "name": "stdout",
          "text": [
            "233/233 [==============================] - 1s 2ms/step - loss: 205.0833 - accuracy: 0.6917\n",
            "Training accuracy: 0.6917192339897156\n"
          ]
        }
      ]
    },
    {
      "cell_type": "code",
      "source": [
        "import matplotlib.pyplot as plt"
      ],
      "metadata": {
        "id": "9xQ_sIWkL08E"
      },
      "id": "9xQ_sIWkL08E",
      "execution_count": null,
      "outputs": []
    },
    {
      "cell_type": "code",
      "source": [
        "# Plot the loss and accuracy curves\n",
        "plt.figure(figsize=(12, 4))\n",
        "\n",
        "# Plot training & validation accuracy values\n",
        "plt.subplot(1, 2, 1)\n",
        "plt.plot(history.history['accuracy'])\n",
        "plt.title('Model accuracy')\n",
        "plt.ylabel('Accuracy')\n",
        "plt.xlabel('Epoch')\n",
        "plt.legend(['Train', 'Validation'], loc='upper left')\n",
        "\n",
        "# Plot training & validation loss values\n",
        "plt.subplot(1, 2, 2)\n",
        "plt.plot(history.history['loss'])\n",
        "plt.title('Model loss')\n",
        "plt.ylabel('Loss')\n",
        "plt.xlabel('Epoch')\n",
        "plt.legend(['Train', 'Validation'], loc='upper left')\n",
        "\n",
        "plt.show()"
      ],
      "metadata": {
        "colab": {
          "base_uri": "https://localhost:8080/",
          "height": 410
        },
        "id": "VjXyBkTvKVQm",
        "outputId": "15284427-ecae-4894-d7f9-b4f843bb1204"
      },
      "id": "VjXyBkTvKVQm",
      "execution_count": null,
      "outputs": [
        {
          "output_type": "display_data",
          "data": {
            "text/plain": [
              "<Figure size 1200x400 with 2 Axes>"
            ],
            "image/png": "[encoded data removed]"
          },
          "metadata": {}
        }
      ]
    },
    {
      "cell_type": "markdown",
      "source": [
        "# LSTM (Long Short-Term Memory)"
      ],
      "metadata": {
        "id": "RPz78XghG5SX"
      },
      "id": "RPz78XghG5SX"
    },
    {
      "cell_type": "code",
      "source": [
        "import numpy as np\n",
        "from sklearn.model_selection import train_test_split\n",
        "from sklearn.preprocessing import StandardScaler\n",
        "from tensorflow.keras.models import Sequential\n",
        "from tensorflow.keras.layers import LSTM, Dense\n",
        "from tensorflow.keras.optimizers import Adam\n",
        "from tensorflow.keras.layers import Dropout\n",
        "\n",
        "X_train,X_test,y_train,y_test=train_test_split(x,y,test_size=0.3)\n",
        "\n",
        "\n",
        "# Reshape X_train to 3D for LSTM input\n",
        "X_train = X_train.values.reshape((X_train.shape[0], 1, X_train.shape[1]))\n",
        "\n",
        "\n",
        "model = Sequential([\n",
        "    LSTM(64, input_shape=(X_train.shape[1], X_train.shape[2]), return_sequences=True),\n",
        "    Dropout(0.5),\n",
        "    LSTM(32),\n",
        "    Dropout(0.5),\n",
        "    Dense(1, activation='sigmoid')\n",
        "])\n",
        "\n",
        "model.compile(loss='binary_crossentropy', optimizer=\"adam\", metrics=['accuracy'])\n",
        "\n",
        "# Train model\n",
        "model.fit(X_train, y_train, epochs=10, batch_size=32)\n",
        "\n",
        "# Evaluate model\n",
        "loss, accuracy = model.evaluate(X_train, y_train)\n",
        "print(f\"Validation Loss: {loss}\")\n",
        "print(f\"Validation Accuracy: {accuracy}\")\n"
      ],
      "metadata": {
        "colab": {
          "base_uri": "https://localhost:8080/"
        },
        "id": "9FDBd0P4HJMu",
        "outputId": "739fcff7-b807-41e1-f219-1eee63fe23f3"
      },
      "id": "9FDBd0P4HJMu",
      "execution_count": null,
      "outputs": [
        {
          "output_type": "stream",
          "name": "stdout",
          "text": [
            "Epoch 1/10\n",
            "233/233 [==============================] - 8s 9ms/step - loss: -2.0397 - accuracy: 0.4982\n",
            "Epoch 2/10\n",
            "233/233 [==============================] - 2s 7ms/step - loss: -7.2392 - accuracy: 0.5085\n",
            "Epoch 3/10\n",
            "233/233 [==============================] - 2s 7ms/step - loss: -10.8237 - accuracy: 0.5085\n",
            "Epoch 4/10\n",
            "233/233 [==============================] - 2s 7ms/step - loss: -14.0305 - accuracy: 0.5085\n",
            "Epoch 5/10\n",
            "233/233 [==============================] - 1s 6ms/step - loss: -17.0058 - accuracy: 0.5085\n",
            "Epoch 6/10\n",
            "233/233 [==============================] - 2s 6ms/step - loss: -19.9501 - accuracy: 0.5085\n",
            "Epoch 7/10\n",
            "233/233 [==============================] - 1s 6ms/step - loss: -23.0409 - accuracy: 0.5085\n",
            "Epoch 8/10\n",
            "233/233 [==============================] - 2s 9ms/step - loss: -25.9082 - accuracy: 0.5085\n",
            "Epoch 9/10\n",
            "233/233 [==============================] - 2s 9ms/step - loss: -28.5980 - accuracy: 0.5085\n",
            "Epoch 10/10\n",
            "233/233 [==============================] - 2s 8ms/step - loss: -31.3683 - accuracy: 0.5085\n",
            "233/233 [==============================] - 1s 2ms/step - loss: -32.8680 - accuracy: 0.5085\n",
            "Validation Loss: -32.86803436279297\n",
            "Validation Accuracy: 0.5085223317146301\n"
          ]
        }
      ]
    },
    {
      "cell_type": "markdown",
      "source": [
        "# Feed Forward Neural Network"
      ],
      "metadata": {
        "id": "gk98k3fGIx65"
      },
      "id": "gk98k3fGIx65"
    },
    {
      "cell_type": "code",
      "source": [
        "from tensorflow.keras.models import Sequential\n",
        "from tensorflow.keras.layers import Dense, Dropout, Flatten\n",
        "from keras.models import Sequential\n",
        "from keras import layers\n",
        "\n",
        "X_train,X_val,y_train,y_val=train_test_split(x,y,test_size=0.3)\n",
        "\n",
        "# Example data preparation\n",
        "# Assuming your data X_train has the shape (7451, 1, 46)\n",
        "\"\"\"\n",
        "X_train = X_train.values.reshape((X_train.shape[0], X_train.shape[1]))  # Reshape to (7451, 46)\n",
        "X_val = X_val.values.reshape((X_val.shape[0], X_val.shape[1]))  # Reshape to (validation_size, 46)\n",
        "\n",
        "model = Sequential([\n",
        "    Dense(128, activation='relu', input_shape=(X_train.shape[1],)),\n",
        "    Dropout(0.5),\n",
        "    Dense(64, activation='relu'),\n",
        "    Dropout(0.5),\n",
        "    Dense(32, activation='relu'),\n",
        "    Dropout(0.5),\n",
        "    Dense(1, activation='sigmoid')\n",
        "])\n",
        "\"\"\"\n",
        "input_dim = X_train.shape[1]  # Number of features\n",
        "\n",
        "model = Sequential()\n",
        "model.add(layers.Dense(20, input_dim=input_dim, activation='relu'))\n",
        "model.add(layers.Dense(10,  activation='tanh'))\n",
        "model.add(layers.Dense(1024, activation='relu'))\n",
        "\n",
        "model.add(layers.BatchNormalization())\n",
        "model.add(layers.Dropout(0.5))\n",
        "model.add(layers.Dense(1, activation='sigmoid'))\n",
        "\n",
        "\n",
        "\n",
        "model.compile(loss='binary_crossentropy',\n",
        "              optimizer='adam',\n",
        "              metrics=['accuracy'])\n",
        "model.summary()"
      ],
      "metadata": {
        "colab": {
          "base_uri": "https://localhost:8080/",
          "height": 348
        },
        "id": "fN1q9e45HWeQ",
        "outputId": "2b90147c-b6c0-4183-cde3-4adedc05a392"
      },
      "id": "fN1q9e45HWeQ",
      "execution_count": null,
      "outputs": [
        {
          "output_type": "display_data",
          "data": {
            "text/plain": [
              "\u001b[1mModel: \"sequential_2\"\u001b[0m\n"
            ],
            "text/html": [
              "<pre style=\"white-space:pre;overflow-x:auto;line-height:normal;font-family:Menlo,'DejaVu Sans Mono',consolas,'Courier New',monospace\"><span style=\"font-weight: bold\">Model: \"sequential_2\"</span>\n",
              "</pre>\n"
            ]
          },
          "metadata": {}
        },
        {
          "output_type": "display_data",
          "data": {
            "text/plain": [
              "┏━━━━━━━━━━━━━━━━━━━━━━━━━━━━━━━━━━━━━━┳━━━━━━━━━━━━━━━━━━━━━━━━━━━━━┳━━━━━━━━━━━━━━━━━┓\n",
              "┃\u001b[1m \u001b[0m\u001b[1mLayer (type)                        \u001b[0m\u001b[1m \u001b[0m┃\u001b[1m \u001b[0m\u001b[1mOutput Shape               \u001b[0m\u001b[1m \u001b[0m┃\u001b[1m \u001b[0m\u001b[1m        Param #\u001b[0m\u001b[1m \u001b[0m┃\n",
              "┡━━━━━━━━━━━━━━━━━━━━━━━━━━━━━━━━━━━━━━╇━━━━━━━━━━━━━━━━━━━━━━━━━━━━━╇━━━━━━━━━━━━━━━━━┩\n",
              "│ dense_4 (\u001b[38;5;33mDense\u001b[0m)                      │ (\u001b[38;5;45mNone\u001b[0m, \u001b[38;5;34m20\u001b[0m)                  │             \u001b[38;5;34m940\u001b[0m │\n",
              "├──────────────────────────────────────┼─────────────────────────────┼─────────────────┤\n",
              "│ dense_5 (\u001b[38;5;33mDense\u001b[0m)                      │ (\u001b[38;5;45mNone\u001b[0m, \u001b[38;5;34m10\u001b[0m)                  │             \u001b[38;5;34m210\u001b[0m │\n",
              "├──────────────────────────────────────┼─────────────────────────────┼─────────────────┤\n",
              "│ dense_6 (\u001b[38;5;33mDense\u001b[0m)                      │ (\u001b[38;5;45mNone\u001b[0m, \u001b[38;5;34m1024\u001b[0m)                │          \u001b[38;5;34m11,264\u001b[0m │\n",
              "├──────────────────────────────────────┼─────────────────────────────┼─────────────────┤\n",
              "│ batch_normalization_1                │ (\u001b[38;5;45mNone\u001b[0m, \u001b[38;5;34m1024\u001b[0m)                │           \u001b[38;5;34m4,096\u001b[0m │\n",
              "│ (\u001b[38;5;33mBatchNormalization\u001b[0m)                 │                             │                 │\n",
              "├──────────────────────────────────────┼─────────────────────────────┼─────────────────┤\n",
              "│ dropout_1 (\u001b[38;5;33mDropout\u001b[0m)                  │ (\u001b[38;5;45mNone\u001b[0m, \u001b[38;5;34m1024\u001b[0m)                │               \u001b[38;5;34m0\u001b[0m │\n",
              "├──────────────────────────────────────┼─────────────────────────────┼─────────────────┤\n",
              "│ dense_7 (\u001b[38;5;33mDense\u001b[0m)                      │ (\u001b[38;5;45mNone\u001b[0m, \u001b[38;5;34m1\u001b[0m)                   │           \u001b[38;5;34m1,025\u001b[0m │\n",
              "└──────────────────────────────────────┴─────────────────────────────┴─────────────────┘\n"
            ],
            "text/html": [
              "<pre style=\"white-space:pre;overflow-x:auto;line-height:normal;font-family:Menlo,'DejaVu Sans Mono',consolas,'Courier New',monospace\">┏━━━━━━━━━━━━━━━━━━━━━━━━━━━━━━━━━━━━━━┳━━━━━━━━━━━━━━━━━━━━━━━━━━━━━┳━━━━━━━━━━━━━━━━━┓\n",
              "┃<span style=\"font-weight: bold\"> Layer (type)                         </span>┃<span style=\"font-weight: bold\"> Output Shape                </span>┃<span style=\"font-weight: bold\">         Param # </span>┃\n",
              "┡━━━━━━━━━━━━━━━━━━━━━━━━━━━━━━━━━━━━━━╇━━━━━━━━━━━━━━━━━━━━━━━━━━━━━╇━━━━━━━━━━━━━━━━━┩\n",
              "│ dense_4 (<span style=\"color: #0087ff; text-decoration-color: #0087ff\">Dense</span>)                      │ (<span style=\"color: #00d7ff; text-decoration-color: #00d7ff\">None</span>, <span style=\"color: #00af00; text-decoration-color: #00af00\">20</span>)                  │             <span style=\"color: #00af00; text-decoration-color: #00af00\">940</span> │\n",
              "├──────────────────────────────────────┼─────────────────────────────┼─────────────────┤\n",
              "│ dense_5 (<span style=\"color: #0087ff; text-decoration-color: #0087ff\">Dense</span>)                      │ (<span style=\"color: #00d7ff; text-decoration-color: #00d7ff\">None</span>, <span style=\"color: #00af00; text-decoration-color: #00af00\">10</span>)                  │             <span style=\"color: #00af00; text-decoration-color: #00af00\">210</span> │\n",
              "├──────────────────────────────────────┼─────────────────────────────┼─────────────────┤\n",
              "│ dense_6 (<span style=\"color: #0087ff; text-decoration-color: #0087ff\">Dense</span>)                      │ (<span style=\"color: #00d7ff; text-decoration-color: #00d7ff\">None</span>, <span style=\"color: #00af00; text-decoration-color: #00af00\">1024</span>)                │          <span style=\"color: #00af00; text-decoration-color: #00af00\">11,264</span> │\n",
              "├──────────────────────────────────────┼─────────────────────────────┼─────────────────┤\n",
              "│ batch_normalization_1                │ (<span style=\"color: #00d7ff; text-decoration-color: #00d7ff\">None</span>, <span style=\"color: #00af00; text-decoration-color: #00af00\">1024</span>)                │           <span style=\"color: #00af00; text-decoration-color: #00af00\">4,096</span> │\n",
              "│ (<span style=\"color: #0087ff; text-decoration-color: #0087ff\">BatchNormalization</span>)                 │                             │                 │\n",
              "├──────────────────────────────────────┼─────────────────────────────┼─────────────────┤\n",
              "│ dropout_1 (<span style=\"color: #0087ff; text-decoration-color: #0087ff\">Dropout</span>)                  │ (<span style=\"color: #00d7ff; text-decoration-color: #00d7ff\">None</span>, <span style=\"color: #00af00; text-decoration-color: #00af00\">1024</span>)                │               <span style=\"color: #00af00; text-decoration-color: #00af00\">0</span> │\n",
              "├──────────────────────────────────────┼─────────────────────────────┼─────────────────┤\n",
              "│ dense_7 (<span style=\"color: #0087ff; text-decoration-color: #0087ff\">Dense</span>)                      │ (<span style=\"color: #00d7ff; text-decoration-color: #00d7ff\">None</span>, <span style=\"color: #00af00; text-decoration-color: #00af00\">1</span>)                   │           <span style=\"color: #00af00; text-decoration-color: #00af00\">1,025</span> │\n",
              "└──────────────────────────────────────┴─────────────────────────────┴─────────────────┘\n",
              "</pre>\n"
            ]
          },
          "metadata": {}
        },
        {
          "output_type": "display_data",
          "data": {
            "text/plain": [
              "\u001b[1m Total params: \u001b[0m\u001b[38;5;34m17,535\u001b[0m (68.50 KB)\n"
            ],
            "text/html": [
              "<pre style=\"white-space:pre;overflow-x:auto;line-height:normal;font-family:Menlo,'DejaVu Sans Mono',consolas,'Courier New',monospace\"><span style=\"font-weight: bold\"> Total params: </span><span style=\"color: #00af00; text-decoration-color: #00af00\">17,535</span> (68.50 KB)\n",
              "</pre>\n"
            ]
          },
          "metadata": {}
        },
        {
          "output_type": "display_data",
          "data": {
            "text/plain": [
              "\u001b[1m Trainable params: \u001b[0m\u001b[38;5;34m15,487\u001b[0m (60.50 KB)\n"
            ],
            "text/html": [
              "<pre style=\"white-space:pre;overflow-x:auto;line-height:normal;font-family:Menlo,'DejaVu Sans Mono',consolas,'Courier New',monospace\"><span style=\"font-weight: bold\"> Trainable params: </span><span style=\"color: #00af00; text-decoration-color: #00af00\">15,487</span> (60.50 KB)\n",
              "</pre>\n"
            ]
          },
          "metadata": {}
        },
        {
          "output_type": "display_data",
          "data": {
            "text/plain": [
              "\u001b[1m Non-trainable params: \u001b[0m\u001b[38;5;34m2,048\u001b[0m (8.00 KB)\n"
            ],
            "text/html": [
              "<pre style=\"white-space:pre;overflow-x:auto;line-height:normal;font-family:Menlo,'DejaVu Sans Mono',consolas,'Courier New',monospace\"><span style=\"font-weight: bold\"> Non-trainable params: </span><span style=\"color: #00af00; text-decoration-color: #00af00\">2,048</span> (8.00 KB)\n",
              "</pre>\n"
            ]
          },
          "metadata": {}
        }
      ]
    },
    {
      "cell_type": "code",
      "source": [
        "# Train the model\n",
        "model.fit(X_train, y_train, epochs=20, batch_size=32, validation_data=(X_val, y_val))\n",
        "\n",
        "# Evaluate the model\n",
        "loss, accuracy = model.evaluate(X_val, y_val)\n",
        "print(f\"Validation Loss: {loss}\")\n",
        "print(f\"Validation Accuracy: {accuracy}\")"
      ],
      "metadata": {
        "id": "26TfaoLlJEeQ",
        "colab": {
          "base_uri": "https://localhost:8080/"
        },
        "outputId": "61c85941-7b2f-4142-e5ea-3887e815c999"
      },
      "id": "26TfaoLlJEeQ",
      "execution_count": null,
      "outputs": [
        {
          "output_type": "stream",
          "name": "stdout",
          "text": [
            "Epoch 1/20\n",
            "\u001b[1m233/233\u001b[0m \u001b[32m━━━━━━━━━━━━━━━━━━━━\u001b[0m\u001b[37m\u001b[0m \u001b[1m7s\u001b[0m 14ms/step - accuracy: 0.4076 - loss: -2.4737 - val_accuracy: 0.4994 - val_loss: -22.5837\n",
            "Epoch 2/20\n",
            "\u001b[1m233/233\u001b[0m \u001b[32m━━━━━━━━━━━━━━━━━━━━\u001b[0m\u001b[37m\u001b[0m \u001b[1m3s\u001b[0m 4ms/step - accuracy: 0.4893 - loss: -53.9224 - val_accuracy: 0.4994 - val_loss: -178.0611\n",
            "Epoch 3/20\n",
            "\u001b[1m233/233\u001b[0m \u001b[32m━━━━━━━━━━━━━━━━━━━━\u001b[0m\u001b[37m\u001b[0m \u001b[1m1s\u001b[0m 4ms/step - accuracy: 0.4915 - loss: -234.3373 - val_accuracy: 0.4994 - val_loss: -508.4128\n",
            "Epoch 4/20\n",
            "\u001b[1m233/233\u001b[0m \u001b[32m━━━━━━━━━━━━━━━━━━━━\u001b[0m\u001b[37m\u001b[0m \u001b[1m1s\u001b[0m 4ms/step - accuracy: 0.4922 - loss: -553.6592 - val_accuracy: 0.4994 - val_loss: -912.6915\n",
            "Epoch 5/20\n",
            "\u001b[1m233/233\u001b[0m \u001b[32m━━━━━━━━━━━━━━━━━━━━\u001b[0m\u001b[37m\u001b[0m \u001b[1m1s\u001b[0m 4ms/step - accuracy: 0.4963 - loss: -964.4230 - val_accuracy: 0.4994 - val_loss: -1598.8875\n",
            "Epoch 6/20\n",
            "\u001b[1m233/233\u001b[0m \u001b[32m━━━━━━━━━━━━━━━━━━━━\u001b[0m\u001b[37m\u001b[0m \u001b[1m1s\u001b[0m 4ms/step - accuracy: 0.5031 - loss: -1527.9720 - val_accuracy: 0.4994 - val_loss: -2196.7996\n",
            "Epoch 7/20\n",
            "\u001b[1m233/233\u001b[0m \u001b[32m━━━━━━━━━━━━━━━━━━━━\u001b[0m\u001b[37m\u001b[0m \u001b[1m1s\u001b[0m 4ms/step - accuracy: 0.5132 - loss: -2161.6108 - val_accuracy: 0.4994 - val_loss: -3104.0151\n",
            "Epoch 8/20\n",
            "\u001b[1m233/233\u001b[0m \u001b[32m━━━━━━━━━━━━━━━━━━━━\u001b[0m\u001b[37m\u001b[0m \u001b[1m1s\u001b[0m 4ms/step - accuracy: 0.4993 - loss: -2986.6199 - val_accuracy: 0.4994 - val_loss: -3703.3101\n",
            "Epoch 9/20\n",
            "\u001b[1m233/233\u001b[0m \u001b[32m━━━━━━━━━━━━━━━━━━━━\u001b[0m\u001b[37m\u001b[0m \u001b[1m1s\u001b[0m 4ms/step - accuracy: 0.5033 - loss: -3581.2510 - val_accuracy: 0.4994 - val_loss: -4205.6929\n",
            "Epoch 10/20\n",
            "\u001b[1m233/233\u001b[0m \u001b[32m━━━━━━━━━━━━━━━━━━━━\u001b[0m\u001b[37m\u001b[0m \u001b[1m2s\u001b[0m 6ms/step - accuracy: 0.5080 - loss: -4409.7495 - val_accuracy: 0.4994 - val_loss: -5115.6191\n",
            "Epoch 11/20\n",
            "\u001b[1m233/233\u001b[0m \u001b[32m━━━━━━━━━━━━━━━━━━━━\u001b[0m\u001b[37m\u001b[0m \u001b[1m2s\u001b[0m 7ms/step - accuracy: 0.5081 - loss: -5360.0781 - val_accuracy: 0.4994 - val_loss: -6074.0996\n",
            "Epoch 12/20\n",
            "\u001b[1m233/233\u001b[0m \u001b[32m━━━━━━━━━━━━━━━━━━━━\u001b[0m\u001b[37m\u001b[0m \u001b[1m2s\u001b[0m 4ms/step - accuracy: 0.5178 - loss: -6241.6309 - val_accuracy: 0.4994 - val_loss: -7136.7339\n",
            "Epoch 13/20\n",
            "\u001b[1m233/233\u001b[0m \u001b[32m━━━━━━━━━━━━━━━━━━━━\u001b[0m\u001b[37m\u001b[0m \u001b[1m1s\u001b[0m 4ms/step - accuracy: 0.5138 - loss: -7399.6816 - val_accuracy: 0.4915 - val_loss: -8418.8203\n",
            "Epoch 14/20\n",
            "\u001b[1m233/233\u001b[0m \u001b[32m━━━━━━━━━━━━━━━━━━━━\u001b[0m\u001b[37m\u001b[0m \u001b[1m1s\u001b[0m 4ms/step - accuracy: 0.5112 - loss: -8589.6172 - val_accuracy: 0.4915 - val_loss: -9575.9307\n",
            "Epoch 15/20\n",
            "\u001b[1m233/233\u001b[0m \u001b[32m━━━━━━━━━━━━━━━━━━━━\u001b[0m\u001b[37m\u001b[0m \u001b[1m1s\u001b[0m 4ms/step - accuracy: 0.5019 - loss: -10006.2637 - val_accuracy: 0.4915 - val_loss: -10908.8604\n",
            "Epoch 16/20\n",
            "\u001b[1m233/233\u001b[0m \u001b[32m━━━━━━━━━━━━━━━━━━━━\u001b[0m\u001b[37m\u001b[0m \u001b[1m1s\u001b[0m 4ms/step - accuracy: 0.5189 - loss: -10973.6230 - val_accuracy: 0.4915 - val_loss: -12266.9932\n",
            "Epoch 17/20\n",
            "\u001b[1m233/233\u001b[0m \u001b[32m━━━━━━━━━━━━━━━━━━━━\u001b[0m\u001b[37m\u001b[0m \u001b[1m1s\u001b[0m 4ms/step - accuracy: 0.5040 - loss: -12648.5049 - val_accuracy: 0.4915 - val_loss: -13657.9961\n",
            "Epoch 18/20\n",
            "\u001b[1m233/233\u001b[0m \u001b[32m━━━━━━━━━━━━━━━━━━━━\u001b[0m\u001b[37m\u001b[0m \u001b[1m1s\u001b[0m 4ms/step - accuracy: 0.5085 - loss: -13930.6406 - val_accuracy: 0.4915 - val_loss: -15124.5811\n",
            "Epoch 19/20\n",
            "\u001b[1m233/233\u001b[0m \u001b[32m━━━━━━━━━━━━━━━━━━━━\u001b[0m\u001b[37m\u001b[0m \u001b[1m1s\u001b[0m 4ms/step - accuracy: 0.5020 - loss: -15660.0957 - val_accuracy: 0.4915 - val_loss: -16763.2559\n",
            "Epoch 20/20\n",
            "\u001b[1m233/233\u001b[0m \u001b[32m━━━━━━━━━━━━━━━━━━━━\u001b[0m\u001b[37m\u001b[0m \u001b[1m2s\u001b[0m 5ms/step - accuracy: 0.5082 - loss: -16996.3984 - val_accuracy: 0.4915 - val_loss: -18406.2754\n",
            "\u001b[1m100/100\u001b[0m \u001b[32m━━━━━━━━━━━━━━━━━━━━\u001b[0m\u001b[37m\u001b[0m \u001b[1m0s\u001b[0m 2ms/step - accuracy: 0.4820 - loss: -18783.4609\n",
            "Validation Loss: -18406.275390625\n",
            "Validation Accuracy: 0.4915466606616974\n"
          ]
        }
      ]
    },
    {
      "cell_type": "code",
      "source": [],
      "metadata": {
        "id": "HeMEBfMZEj-z"
      },
      "id": "HeMEBfMZEj-z",
      "execution_count": null,
      "outputs": []
    }
  ],
  "metadata": {
    "kernelspec": {
      "display_name": "Python 3 (ipykernel)",
      "language": "python",
      "name": "python3"
    },
    "language_info": {
      "codemirror_mode": {
        "name": "ipython",
        "version": 3
      },
      "file_extension": ".py",
      "mimetype": "text/x-python",
      "name": "python",
      "nbconvert_exporter": "python",
      "pygments_lexer": "ipython3",
      "version": "3.11.7"
    },
    "colab": {
      "provenance": []
    }
  },
  "nbformat": 4,
  "nbformat_minor": 5
}